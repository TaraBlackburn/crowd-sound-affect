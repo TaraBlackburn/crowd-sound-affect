{
 "cells": [
  {
   "cell_type": "code",
   "execution_count": 1,
   "source": [
    "import numpy as np\n",
    "import tensorflow as tf\n",
    "from tensorflow import keras\n",
    "import sklearn\n",
    "from tensorflow.keras.models import Sequential\n",
    "from tensorflow.keras.applications.inception_v3 import preprocess_input\n",
    "from tensorflow.keras.layers import Activation, Dense, Flatten, BatchNormalization, Conv2D, MaxPool2D\n",
    "from tensorflow.keras.optimizers import Adam\n",
    "from tensorflow.keras.models import load_model\n",
    "from tensorflow.keras.preprocessing import image\n",
    "from tensorflow.keras.callbacks import EarlyStopping\n",
    "from tensorflow.keras.metrics import categorical_crossentropy\n",
    "from tensorflow.keras.preprocessing.image import ImageDataGenerator\n",
    "from sklearn.metrics import confusion_matrix, classification_report, plot_confusion_matrix\n",
    "import itertools\n",
    "from PIL import Image, ImageOps\n",
    "import cv2\n",
    "import os, glob\n",
    "import shutil\n",
    "import random\n",
    "import joblib\n",
    "import pickle\n",
    "import seaborn as sns \n",
    "import matplotlib.pyplot as plt\n",
    "import warnings\n",
    "from model import Inception_v3model, VGG16model\n",
    "warnings.simplefilter(action='ignore', category=FutureWarning)\n",
    "%matplotlib inline\n"
   ],
   "outputs": [],
   "metadata": {}
  },
  {
   "cell_type": "markdown",
   "source": [
    "# Inception Model with all data points\n"
   ],
   "metadata": {}
  },
  {
   "cell_type": "code",
   "execution_count": 2,
   "source": [
    "images = '/home/pteradox/Galvanize/capstones/crowd-sound-affect/dataset/step4_split_spectrograms/dataset_training/all_freq'\n",
    "valid_set = '/home/pteradox/Galvanize/capstones/crowd-sound-affect/dataset/step4_split_spectrograms/dataset_training/valid_set'\n",
    "testing = '/home/pteradox/Galvanize/capstones/crowd-sound-affect/dataset/step4_split_spectrograms/dataset_test/all_freq'\n"
   ],
   "outputs": [],
   "metadata": {}
  },
  {
   "cell_type": "code",
   "execution_count": 3,
   "source": [
    "Inception_model = Inception_v3model(images, valid_set, testing)"
   ],
   "outputs": [],
   "metadata": {}
  },
  {
   "cell_type": "code",
   "execution_count": 4,
   "source": [
    "Inception_model.fit()"
   ],
   "outputs": [
    {
     "output_type": "stream",
     "name": "stdout",
     "text": [
      "Found 24311 images belonging to 3 classes.\n",
      "Found 6133 images belonging to 3 classes.\n",
      "Found 7616 images belonging to 3 classes.\n"
     ]
    }
   ],
   "metadata": {}
  },
  {
   "cell_type": "code",
   "execution_count": 5,
   "source": [
    "Inception_model.model_build()"
   ],
   "outputs": [],
   "metadata": {}
  },
  {
   "cell_type": "code",
   "execution_count": 6,
   "source": [
    "Inception_model.model_fit()"
   ],
   "outputs": [
    {
     "output_type": "stream",
     "name": "stdout",
     "text": [
      "Epoch 1/10\n",
      "   5/1520 [..............................] - ETA: 23:59 - loss: 17.3411 - accuracy: 0.3929INFO:tensorflow:Assets written to: model_weights01/assets\n",
      "  10/1520 [..............................] - ETA: 22:49 - loss: 13.3005 - accuracy: 0.5300INFO:tensorflow:Assets written to: model_weights01/assets\n",
      "  15/1520 [..............................] - ETA: 24:20 - loss: 10.8673 - accuracy: 0.5891INFO:tensorflow:Assets written to: model_weights01/assets\n",
      "  20/1520 [..............................] - ETA: 24:19 - loss: 9.2994 - accuracy: 0.6242INFO:tensorflow:Assets written to: model_weights01/assets\n",
      "  25/1520 [..............................] - ETA: 24:10 - loss: 8.2000 - accuracy: 0.6483INFO:tensorflow:Assets written to: model_weights01/assets\n",
      "  30/1520 [..............................] - ETA: 24:30 - loss: 7.3814 - accuracy: 0.6664INFO:tensorflow:Assets written to: model_weights01/assets\n",
      "  35/1520 [..............................] - ETA: 24:45 - loss: 6.7453 - accuracy: 0.6795INFO:tensorflow:Assets written to: model_weights01/assets\n",
      "  40/1520 [..............................] - ETA: 24:54 - loss: 6.2343 - accuracy: 0.6895INFO:tensorflow:Assets written to: model_weights01/assets\n",
      "  45/1520 [..............................] - ETA: 25:02 - loss: 5.8131 - accuracy: 0.6984INFO:tensorflow:Assets written to: model_weights01/assets\n",
      "  50/1520 [..............................] - ETA: 24:43 - loss: 5.4587 - accuracy: 0.7054INFO:tensorflow:Assets written to: model_weights01/assets\n",
      "  55/1520 [>.............................] - ETA: 26:39 - loss: 5.1552 - accuracy: 0.7115INFO:tensorflow:Assets written to: model_weights01/assets\n",
      "  60/1520 [>.............................] - ETA: 26:46 - loss: 4.8918 - accuracy: 0.7167INFO:tensorflow:Assets written to: model_weights01/assets\n",
      "  65/1520 [>.............................] - ETA: 26:46 - loss: 4.6605 - accuracy: 0.7212INFO:tensorflow:Assets written to: model_weights01/assets\n",
      "  70/1520 [>.............................] - ETA: 26:41 - loss: 4.4555 - accuracy: 0.7255INFO:tensorflow:Assets written to: model_weights01/assets\n",
      "  75/1520 [>.............................] - ETA: 26:18 - loss: 4.2726 - accuracy: 0.7293INFO:tensorflow:Assets written to: model_weights01/assets\n",
      "  80/1520 [>.............................] - ETA: 27:05 - loss: 4.1095 - accuracy: 0.7324INFO:tensorflow:Assets written to: model_weights01/assets\n",
      "  85/1520 [>.............................] - ETA: 26:29 - loss: 3.9624 - accuracy: 0.7352INFO:tensorflow:Assets written to: model_weights01/assets\n",
      "  90/1520 [>.............................] - ETA: 25:57 - loss: 3.8289 - accuracy: 0.7377INFO:tensorflow:Assets written to: model_weights01/assets\n",
      "  95/1520 [>.............................] - ETA: 25:32 - loss: 3.7071 - accuracy: 0.7399INFO:tensorflow:Assets written to: model_weights01/assets\n",
      " 100/1520 [>.............................] - ETA: 25:18 - loss: 3.5955 - accuracy: 0.7417INFO:tensorflow:Assets written to: model_weights01/assets\n",
      " 105/1520 [=>............................] - ETA: 25:24 - loss: 3.4923 - accuracy: 0.7434INFO:tensorflow:Assets written to: model_weights01/assets\n",
      " 110/1520 [=>............................] - ETA: 25:12 - loss: 3.3970 - accuracy: 0.7449INFO:tensorflow:Assets written to: model_weights01/assets\n",
      " 115/1520 [=>............................] - ETA: 24:52 - loss: 3.3084 - accuracy: 0.7463INFO:tensorflow:Assets written to: model_weights01/assets\n",
      " 120/1520 [=>............................] - ETA: 24:35 - loss: 3.2258 - accuracy: 0.7475INFO:tensorflow:Assets written to: model_weights01/assets\n",
      " 125/1520 [=>............................] - ETA: 24:48 - loss: 3.1485 - accuracy: 0.7488INFO:tensorflow:Assets written to: model_weights01/assets\n",
      " 130/1520 [=>............................] - ETA: 24:45 - loss: 3.0760 - accuracy: 0.7498INFO:tensorflow:Assets written to: model_weights01/assets\n",
      " 135/1520 [=>............................] - ETA: 24:32 - loss: 3.0081 - accuracy: 0.7508INFO:tensorflow:Assets written to: model_weights01/assets\n",
      " 140/1520 [=>............................] - ETA: 24:33 - loss: 2.9441 - accuracy: 0.7518INFO:tensorflow:Assets written to: model_weights01/assets\n",
      " 145/1520 [=>............................] - ETA: 24:23 - loss: 2.8837 - accuracy: 0.7527INFO:tensorflow:Assets written to: model_weights01/assets\n",
      " 150/1520 [=>............................] - ETA: 24:25 - loss: 2.8266 - accuracy: 0.7536INFO:tensorflow:Assets written to: model_weights01/assets\n",
      " 155/1520 [==>...........................] - ETA: 24:41 - loss: 2.7725 - accuracy: 0.7544INFO:tensorflow:Assets written to: model_weights01/assets\n",
      " 160/1520 [==>...........................] - ETA: 24:24 - loss: 2.7215 - accuracy: 0.7551INFO:tensorflow:Assets written to: model_weights01/assets\n",
      " 165/1520 [==>...........................] - ETA: 24:21 - loss: 2.6730 - accuracy: 0.7558INFO:tensorflow:Assets written to: model_weights01/assets\n",
      " 170/1520 [==>...........................] - ETA: 24:44 - loss: 2.6270 - accuracy: 0.7564INFO:tensorflow:Assets written to: model_weights01/assets\n",
      " 175/1520 [==>...........................] - ETA: 24:30 - loss: 2.5831 - accuracy: 0.7570INFO:tensorflow:Assets written to: model_weights01/assets\n",
      " 180/1520 [==>...........................] - ETA: 24:28 - loss: 2.5412 - accuracy: 0.7577INFO:tensorflow:Assets written to: model_weights01/assets\n",
      " 185/1520 [==>...........................] - ETA: 24:24 - loss: 2.5012 - accuracy: 0.7583INFO:tensorflow:Assets written to: model_weights01/assets\n",
      " 190/1520 [==>...........................] - ETA: 24:12 - loss: 2.4629 - accuracy: 0.7589INFO:tensorflow:Assets written to: model_weights01/assets\n",
      " 195/1520 [==>...........................] - ETA: 24:27 - loss: 2.4263 - accuracy: 0.7594INFO:tensorflow:Assets written to: model_weights01/assets\n",
      " 200/1520 [==>...........................] - ETA: 24:41 - loss: 2.3913 - accuracy: 0.7599INFO:tensorflow:Assets written to: model_weights01/assets\n",
      " 205/1520 [===>..........................] - ETA: 24:36 - loss: 2.3578 - accuracy: 0.7603INFO:tensorflow:Assets written to: model_weights01/assets\n",
      " 210/1520 [===>..........................] - ETA: 24:36 - loss: 2.3255 - accuracy: 0.7607INFO:tensorflow:Assets written to: model_weights01/assets\n",
      " 215/1520 [===>..........................] - ETA: 24:29 - loss: 2.2946 - accuracy: 0.7611INFO:tensorflow:Assets written to: model_weights01/assets\n",
      " 220/1520 [===>..........................] - ETA: 24:24 - loss: 2.2649 - accuracy: 0.7615INFO:tensorflow:Assets written to: model_weights01/assets\n",
      " 225/1520 [===>..........................] - ETA: 24:26 - loss: 2.2363 - accuracy: 0.7619INFO:tensorflow:Assets written to: model_weights01/assets\n",
      " 230/1520 [===>..........................] - ETA: 24:14 - loss: 2.2087 - accuracy: 0.7623INFO:tensorflow:Assets written to: model_weights01/assets\n",
      " 235/1520 [===>..........................] - ETA: 24:20 - loss: 2.1821 - accuracy: 0.7626INFO:tensorflow:Assets written to: model_weights01/assets\n",
      " 240/1520 [===>..........................] - ETA: 24:12 - loss: 2.1564 - accuracy: 0.7630INFO:tensorflow:Assets written to: model_weights01/assets\n",
      " 245/1520 [===>..........................] - ETA: 24:07 - loss: 2.1316 - accuracy: 0.7633INFO:tensorflow:Assets written to: model_weights01/assets\n",
      " 250/1520 [===>..........................] - ETA: 24:05 - loss: 2.1076 - accuracy: 0.7637INFO:tensorflow:Assets written to: model_weights01/assets\n",
      " 255/1520 [====>.........................] - ETA: 23:56 - loss: 2.0845 - accuracy: 0.7640INFO:tensorflow:Assets written to: model_weights01/assets\n",
      " 260/1520 [====>.........................] - ETA: 23:43 - loss: 2.0621 - accuracy: 0.7643INFO:tensorflow:Assets written to: model_weights01/assets\n",
      " 265/1520 [====>.........................] - ETA: 23:29 - loss: 2.0403 - accuracy: 0.7646INFO:tensorflow:Assets written to: model_weights01/assets\n",
      " 270/1520 [====>.........................] - ETA: 23:19 - loss: 2.0193 - accuracy: 0.7649INFO:tensorflow:Assets written to: model_weights01/assets\n",
      " 275/1520 [====>.........................] - ETA: 23:07 - loss: 1.9988 - accuracy: 0.7652INFO:tensorflow:Assets written to: model_weights01/assets\n",
      " 280/1520 [====>.........................] - ETA: 22:56 - loss: 1.9789 - accuracy: 0.7655INFO:tensorflow:Assets written to: model_weights01/assets\n",
      " 285/1520 [====>.........................] - ETA: 22:44 - loss: 1.9597 - accuracy: 0.7658INFO:tensorflow:Assets written to: model_weights01/assets\n",
      " 290/1520 [====>.........................] - ETA: 22:39 - loss: 1.9410 - accuracy: 0.7661INFO:tensorflow:Assets written to: model_weights01/assets\n",
      " 295/1520 [====>.........................] - ETA: 22:30 - loss: 1.9228 - accuracy: 0.7664INFO:tensorflow:Assets written to: model_weights01/assets\n",
      " 300/1520 [====>.........................] - ETA: 22:36 - loss: 1.9052 - accuracy: 0.7667INFO:tensorflow:Assets written to: model_weights01/assets\n",
      " 305/1520 [=====>........................] - ETA: 22:28 - loss: 1.8880 - accuracy: 0.7670INFO:tensorflow:Assets written to: model_weights01/assets\n",
      " 310/1520 [=====>........................] - ETA: 22:20 - loss: 1.8713 - accuracy: 0.7674INFO:tensorflow:Assets written to: model_weights01/assets\n",
      " 315/1520 [=====>........................] - ETA: 22:11 - loss: 1.8549 - accuracy: 0.7677INFO:tensorflow:Assets written to: model_weights01/assets\n",
      " 320/1520 [=====>........................] - ETA: 22:03 - loss: 1.8391 - accuracy: 0.7680INFO:tensorflow:Assets written to: model_weights01/assets\n",
      " 325/1520 [=====>........................] - ETA: 21:57 - loss: 1.8236 - accuracy: 0.7683INFO:tensorflow:Assets written to: model_weights01/assets\n",
      " 330/1520 [=====>........................] - ETA: 21:54 - loss: 1.8085 - accuracy: 0.7687INFO:tensorflow:Assets written to: model_weights01/assets\n",
      " 335/1520 [=====>........................] - ETA: 21:46 - loss: 1.7938 - accuracy: 0.7690INFO:tensorflow:Assets written to: model_weights01/assets\n",
      " 340/1520 [=====>........................] - ETA: 21:37 - loss: 1.7795 - accuracy: 0.7693INFO:tensorflow:Assets written to: model_weights01/assets\n",
      " 345/1520 [=====>........................] - ETA: 21:36 - loss: 1.7656 - accuracy: 0.7696INFO:tensorflow:Assets written to: model_weights01/assets\n",
      " 350/1520 [=====>........................] - ETA: 21:27 - loss: 1.7520 - accuracy: 0.7698INFO:tensorflow:Assets written to: model_weights01/assets\n",
      " 355/1520 [======>.......................] - ETA: 21:23 - loss: 1.7387 - accuracy: 0.7701INFO:tensorflow:Assets written to: model_weights01/assets\n",
      " 360/1520 [======>.......................] - ETA: 21:19 - loss: 1.7258 - accuracy: 0.7704INFO:tensorflow:Assets written to: model_weights01/assets\n",
      " 365/1520 [======>.......................] - ETA: 21:12 - loss: 1.7131 - accuracy: 0.7707INFO:tensorflow:Assets written to: model_weights01/assets\n",
      " 370/1520 [======>.......................] - ETA: 21:05 - loss: 1.7007 - accuracy: 0.7709INFO:tensorflow:Assets written to: model_weights01/assets\n",
      " 375/1520 [======>.......................] - ETA: 20:57 - loss: 1.6886 - accuracy: 0.7712INFO:tensorflow:Assets written to: model_weights01/assets\n",
      " 380/1520 [======>.......................] - ETA: 20:51 - loss: 1.6767 - accuracy: 0.7715INFO:tensorflow:Assets written to: model_weights01/assets\n",
      " 385/1520 [======>.......................] - ETA: 20:42 - loss: 1.6650 - accuracy: 0.7718INFO:tensorflow:Assets written to: model_weights01/assets\n",
      " 390/1520 [======>.......................] - ETA: 20:36 - loss: 1.6536 - accuracy: 0.7721INFO:tensorflow:Assets written to: model_weights01/assets\n",
      " 395/1520 [======>.......................] - ETA: 20:27 - loss: 1.6425 - accuracy: 0.7724INFO:tensorflow:Assets written to: model_weights01/assets\n",
      " 400/1520 [======>.......................] - ETA: 20:24 - loss: 1.6316 - accuracy: 0.7726INFO:tensorflow:Assets written to: model_weights01/assets\n",
      " 405/1520 [======>.......................] - ETA: 20:28 - loss: 1.6210 - accuracy: 0.7729INFO:tensorflow:Assets written to: model_weights01/assets\n",
      " 410/1520 [=======>......................] - ETA: 20:22 - loss: 1.6106 - accuracy: 0.7731INFO:tensorflow:Assets written to: model_weights01/assets\n",
      " 415/1520 [=======>......................] - ETA: 20:14 - loss: 1.6005 - accuracy: 0.7734INFO:tensorflow:Assets written to: model_weights01/assets\n",
      " 420/1520 [=======>......................] - ETA: 20:06 - loss: 1.5905 - accuracy: 0.7736INFO:tensorflow:Assets written to: model_weights01/assets\n",
      " 425/1520 [=======>......................] - ETA: 19:56 - loss: 1.5808 - accuracy: 0.7738INFO:tensorflow:Assets written to: model_weights01/assets\n",
      " 430/1520 [=======>......................] - ETA: 19:46 - loss: 1.5712 - accuracy: 0.7740INFO:tensorflow:Assets written to: model_weights01/assets\n",
      " 435/1520 [=======>......................] - ETA: 19:39 - loss: 1.5618 - accuracy: 0.7742INFO:tensorflow:Assets written to: model_weights01/assets\n",
      " 440/1520 [=======>......................] - ETA: 19:32 - loss: 1.5527 - accuracy: 0.7744INFO:tensorflow:Assets written to: model_weights01/assets\n",
      " 445/1520 [=======>......................] - ETA: 19:24 - loss: 1.5437 - accuracy: 0.7747INFO:tensorflow:Assets written to: model_weights01/assets\n",
      " 450/1520 [=======>......................] - ETA: 19:17 - loss: 1.5348 - accuracy: 0.7749INFO:tensorflow:Assets written to: model_weights01/assets\n",
      " 455/1520 [=======>......................] - ETA: 19:11 - loss: 1.5261 - accuracy: 0.7751INFO:tensorflow:Assets written to: model_weights01/assets\n",
      " 460/1520 [========>.....................] - ETA: 19:05 - loss: 1.5176 - accuracy: 0.7753INFO:tensorflow:Assets written to: model_weights01/assets\n",
      " 465/1520 [========>.....................] - ETA: 19:07 - loss: 1.5092 - accuracy: 0.7755INFO:tensorflow:Assets written to: model_weights01/assets\n",
      " 470/1520 [========>.....................] - ETA: 19:03 - loss: 1.5010 - accuracy: 0.7758INFO:tensorflow:Assets written to: model_weights01/assets\n",
      " 475/1520 [========>.....................] - ETA: 18:54 - loss: 1.4929 - accuracy: 0.7760INFO:tensorflow:Assets written to: model_weights01/assets\n",
      " 480/1520 [========>.....................] - ETA: 18:46 - loss: 1.4849 - accuracy: 0.7762INFO:tensorflow:Assets written to: model_weights01/assets\n",
      " 485/1520 [========>.....................] - ETA: 18:39 - loss: 1.4771 - accuracy: 0.7764INFO:tensorflow:Assets written to: model_weights01/assets\n",
      " 490/1520 [========>.....................] - ETA: 18:33 - loss: 1.4694 - accuracy: 0.7767INFO:tensorflow:Assets written to: model_weights01/assets\n",
      " 495/1520 [========>.....................] - ETA: 18:26 - loss: 1.4618 - accuracy: 0.7769INFO:tensorflow:Assets written to: model_weights01/assets\n",
      " 500/1520 [========>.....................] - ETA: 18:22 - loss: 1.4543 - accuracy: 0.7771INFO:tensorflow:Assets written to: model_weights01/assets\n",
      " 505/1520 [========>.....................] - ETA: 18:15 - loss: 1.4470 - accuracy: 0.7774INFO:tensorflow:Assets written to: model_weights01/assets\n",
      " 510/1520 [=========>....................] - ETA: 18:09 - loss: 1.4397 - accuracy: 0.7776INFO:tensorflow:Assets written to: model_weights01/assets\n",
      " 515/1520 [=========>....................] - ETA: 18:02 - loss: 1.4326 - accuracy: 0.7778INFO:tensorflow:Assets written to: model_weights01/assets\n",
      " 520/1520 [=========>....................] - ETA: 17:59 - loss: 1.4257 - accuracy: 0.7780INFO:tensorflow:Assets written to: model_weights01/assets\n",
      " 525/1520 [=========>....................] - ETA: 17:55 - loss: 1.4188 - accuracy: 0.7782INFO:tensorflow:Assets written to: model_weights01/assets\n",
      " 530/1520 [=========>....................] - ETA: 17:48 - loss: 1.4120 - accuracy: 0.7784INFO:tensorflow:Assets written to: model_weights01/assets\n",
      " 535/1520 [=========>....................] - ETA: 17:42 - loss: 1.4053 - accuracy: 0.7787INFO:tensorflow:Assets written to: model_weights01/assets\n",
      " 540/1520 [=========>....................] - ETA: 17:35 - loss: 1.3987 - accuracy: 0.7789INFO:tensorflow:Assets written to: model_weights01/assets\n",
      " 545/1520 [=========>....................] - ETA: 17:28 - loss: 1.3923 - accuracy: 0.7791INFO:tensorflow:Assets written to: model_weights01/assets\n",
      " 550/1520 [=========>....................] - ETA: 17:21 - loss: 1.3859 - accuracy: 0.7793INFO:tensorflow:Assets written to: model_weights01/assets\n",
      " 555/1520 [=========>....................] - ETA: 17:14 - loss: 1.3797 - accuracy: 0.7795INFO:tensorflow:Assets written to: model_weights01/assets\n",
      " 560/1520 [==========>...................] - ETA: 17:07 - loss: 1.3736 - accuracy: 0.7797INFO:tensorflow:Assets written to: model_weights01/assets\n",
      " 565/1520 [==========>...................] - ETA: 17:02 - loss: 1.3675 - accuracy: 0.7799INFO:tensorflow:Assets written to: model_weights01/assets\n",
      " 570/1520 [==========>...................] - ETA: 16:55 - loss: 1.3615 - accuracy: 0.7801INFO:tensorflow:Assets written to: model_weights01/assets\n",
      " 575/1520 [==========>...................] - ETA: 16:49 - loss: 1.3557 - accuracy: 0.7803INFO:tensorflow:Assets written to: model_weights01/assets\n",
      " 580/1520 [==========>...................] - ETA: 16:43 - loss: 1.3499 - accuracy: 0.7805INFO:tensorflow:Assets written to: model_weights01/assets\n",
      " 585/1520 [==========>...................] - ETA: 16:36 - loss: 1.3442 - accuracy: 0.7807INFO:tensorflow:Assets written to: model_weights01/assets\n",
      " 590/1520 [==========>...................] - ETA: 16:30 - loss: 1.3386 - accuracy: 0.7809INFO:tensorflow:Assets written to: model_weights01/assets\n",
      " 595/1520 [==========>...................] - ETA: 16:25 - loss: 1.3331 - accuracy: 0.7810INFO:tensorflow:Assets written to: model_weights01/assets\n",
      " 600/1520 [==========>...................] - ETA: 16:18 - loss: 1.3276 - accuracy: 0.7812INFO:tensorflow:Assets written to: model_weights01/assets\n",
      " 605/1520 [==========>...................] - ETA: 16:11 - loss: 1.3222 - accuracy: 0.7814INFO:tensorflow:Assets written to: model_weights01/assets\n",
      " 610/1520 [===========>..................] - ETA: 16:06 - loss: 1.3169 - accuracy: 0.7816INFO:tensorflow:Assets written to: model_weights01/assets\n",
      " 615/1520 [===========>..................] - ETA: 16:01 - loss: 1.3116 - accuracy: 0.7818INFO:tensorflow:Assets written to: model_weights01/assets\n",
      " 620/1520 [===========>..................] - ETA: 15:54 - loss: 1.3064 - accuracy: 0.7820INFO:tensorflow:Assets written to: model_weights01/assets\n",
      " 625/1520 [===========>..................] - ETA: 15:53 - loss: 1.3012 - accuracy: 0.7822INFO:tensorflow:Assets written to: model_weights01/assets\n",
      " 630/1520 [===========>..................] - ETA: 15:46 - loss: 1.2962 - accuracy: 0.7824INFO:tensorflow:Assets written to: model_weights01/assets\n",
      " 635/1520 [===========>..................] - ETA: 15:39 - loss: 1.2911 - accuracy: 0.7826INFO:tensorflow:Assets written to: model_weights01/assets\n",
      " 640/1520 [===========>..................] - ETA: 15:33 - loss: 1.2862 - accuracy: 0.7828INFO:tensorflow:Assets written to: model_weights01/assets\n",
      " 645/1520 [===========>..................] - ETA: 15:27 - loss: 1.2813 - accuracy: 0.7830INFO:tensorflow:Assets written to: model_weights01/assets\n",
      " 650/1520 [===========>..................] - ETA: 15:22 - loss: 1.2765 - accuracy: 0.7832INFO:tensorflow:Assets written to: model_weights01/assets\n",
      " 655/1520 [===========>..................] - ETA: 15:17 - loss: 1.2717 - accuracy: 0.7834INFO:tensorflow:Assets written to: model_weights01/assets\n",
      " 660/1520 [============>.................] - ETA: 15:11 - loss: 1.2670 - accuracy: 0.7836INFO:tensorflow:Assets written to: model_weights01/assets\n",
      " 665/1520 [============>.................] - ETA: 15:06 - loss: 1.2624 - accuracy: 0.7838INFO:tensorflow:Assets written to: model_weights01/assets\n",
      " 670/1520 [============>.................] - ETA: 15:00 - loss: 1.2578 - accuracy: 0.7840INFO:tensorflow:Assets written to: model_weights01/assets\n",
      " 675/1520 [============>.................] - ETA: 14:52 - loss: 1.2533 - accuracy: 0.7842INFO:tensorflow:Assets written to: model_weights01/assets\n",
      " 680/1520 [============>.................] - ETA: 14:47 - loss: 1.2488 - accuracy: 0.7844INFO:tensorflow:Assets written to: model_weights01/assets\n",
      " 685/1520 [============>.................] - ETA: 14:41 - loss: 1.2443 - accuracy: 0.7846INFO:tensorflow:Assets written to: model_weights01/assets\n",
      " 690/1520 [============>.................] - ETA: 14:35 - loss: 1.2400 - accuracy: 0.7848INFO:tensorflow:Assets written to: model_weights01/assets\n",
      " 695/1520 [============>.................] - ETA: 14:28 - loss: 1.2356 - accuracy: 0.7849INFO:tensorflow:Assets written to: model_weights01/assets\n",
      " 700/1520 [============>.................] - ETA: 14:27 - loss: 1.2313 - accuracy: 0.7851INFO:tensorflow:Assets written to: model_weights01/assets\n",
      " 705/1520 [============>.................] - ETA: 14:20 - loss: 1.2271 - accuracy: 0.7853INFO:tensorflow:Assets written to: model_weights01/assets\n",
      " 710/1520 [=============>................] - ETA: 14:14 - loss: 1.2229 - accuracy: 0.7855INFO:tensorflow:Assets written to: model_weights01/assets\n",
      " 715/1520 [=============>................] - ETA: 14:08 - loss: 1.2188 - accuracy: 0.7857INFO:tensorflow:Assets written to: model_weights01/assets\n",
      " 720/1520 [=============>................] - ETA: 14:02 - loss: 1.2147 - accuracy: 0.7859INFO:tensorflow:Assets written to: model_weights01/assets\n"
     ]
    }
   ],
   "metadata": {}
  },
  {
   "cell_type": "code",
   "execution_count": null,
   "source": [
    "Inception_model.save(Inception_model)"
   ],
   "outputs": [],
   "metadata": {}
  },
  {
   "cell_type": "code",
   "execution_count": 7,
   "source": [
    "Inception_model.conf_matrix()"
   ],
   "outputs": [
    {
     "output_type": "stream",
     "name": "stdout",
     "text": [
      "Confusion Matrix\n",
      "[[1354   39   39]\n",
      " [  44  246   22]\n",
      " [   8    2 5862]]\n",
      "Classification Report\n",
      "              precision    recall  f1-score   support\n",
      "\n",
      "    Approval       0.96      0.95      0.95      1432\n",
      " Disapproval       0.86      0.79      0.82       312\n",
      "     Neutral       0.99      1.00      0.99      5872\n",
      "\n",
      "    accuracy                           0.98      7616\n",
      "   macro avg       0.94      0.91      0.92      7616\n",
      "weighted avg       0.98      0.98      0.98      7616\n",
      "\n"
     ]
    },
    {
     "output_type": "display_data",
     "data": {
      "text/plain": [
       "<Figure size 432x288 with 2 Axes>"
      ],
      "image/svg+xml": "<?xml version=\"1.0\" encoding=\"utf-8\" standalone=\"no\"?>\n<!DOCTYPE svg PUBLIC \"-//W3C//DTD SVG 1.1//EN\"\n  \"http://www.w3.org/Graphics/SVG/1.1/DTD/svg11.dtd\">\n<svg height=\"277.314375pt\" version=\"1.1\" viewBox=\"0 0 372.65825 277.314375\" width=\"372.65825pt\" xmlns=\"http://www.w3.org/2000/svg\" xmlns:xlink=\"http://www.w3.org/1999/xlink\">\n <metadata>\n  <rdf:RDF xmlns:cc=\"http://creativecommons.org/ns#\" xmlns:dc=\"http://purl.org/dc/elements/1.1/\" xmlns:rdf=\"http://www.w3.org/1999/02/22-rdf-syntax-ns#\">\n   <cc:Work>\n    <dc:type rdf:resource=\"http://purl.org/dc/dcmitype/StillImage\"/>\n    <dc:date>2021-08-07T09:02:49.372699</dc:date>\n    <dc:format>image/svg+xml</dc:format>\n    <dc:creator>\n     <cc:Agent>\n      <dc:title>Matplotlib v3.4.2, https://matplotlib.org/</dc:title>\n     </cc:Agent>\n    </dc:creator>\n   </cc:Work>\n  </rdf:RDF>\n </metadata>\n <defs>\n  <style type=\"text/css\">*{stroke-linecap:butt;stroke-linejoin:round;}</style>\n </defs>\n <g id=\"figure_1\">\n  <g id=\"patch_1\">\n   <path d=\"M 0 277.314375 \nL 372.65825 277.314375 \nL 372.65825 0 \nL 0 0 \nz\n\" style=\"fill:none;\"/>\n  </g>\n  <g id=\"axes_1\">\n   <g id=\"patch_2\">\n    <path d=\"M 37.55625 239.758125 \nL 305.39625 239.758125 \nL 305.39625 22.318125 \nL 37.55625 22.318125 \nz\n\" style=\"fill:#ffffff;\"/>\n   </g>\n   <g id=\"QuadMesh_1\">\n    <path clip-path=\"url(#p29367ac0b2)\" d=\"M 37.55625 22.318125 \nL 126.83625 22.318125 \nL 126.83625 94.798125 \nL 37.55625 94.798125 \nL 37.55625 22.318125 \n\" style=\"fill:#591e50;\"/>\n    <path clip-path=\"url(#p29367ac0b2)\" d=\"M 126.83625 22.318125 \nL 216.11625 22.318125 \nL 216.11625 94.798125 \nL 126.83625 94.798125 \nL 126.83625 22.318125 \n\" style=\"fill:#04051a;\"/>\n    <path clip-path=\"url(#p29367ac0b2)\" d=\"M 216.11625 22.318125 \nL 305.39625 22.318125 \nL 305.39625 94.798125 \nL 216.11625 94.798125 \nL 216.11625 22.318125 \n\" style=\"fill:#04051a;\"/>\n    <path clip-path=\"url(#p29367ac0b2)\" d=\"M 37.55625 94.798125 \nL 126.83625 94.798125 \nL 126.83625 167.278125 \nL 37.55625 167.278125 \nL 37.55625 94.798125 \n\" style=\"fill:#04051a;\"/>\n    <path clip-path=\"url(#p29367ac0b2)\" d=\"M 126.83625 94.798125 \nL 216.11625 94.798125 \nL 216.11625 167.278125 \nL 126.83625 167.278125 \nL 126.83625 94.798125 \n\" style=\"fill:#100b23;\"/>\n    <path clip-path=\"url(#p29367ac0b2)\" d=\"M 216.11625 94.798125 \nL 305.39625 94.798125 \nL 305.39625 167.278125 \nL 216.11625 167.278125 \nL 216.11625 94.798125 \n\" style=\"fill:#03051a;\"/>\n    <path clip-path=\"url(#p29367ac0b2)\" d=\"M 37.55625 167.278125 \nL 126.83625 167.278125 \nL 126.83625 239.758125 \nL 37.55625 239.758125 \nL 37.55625 167.278125 \n\" style=\"fill:#03051a;\"/>\n    <path clip-path=\"url(#p29367ac0b2)\" d=\"M 126.83625 167.278125 \nL 216.11625 167.278125 \nL 216.11625 239.758125 \nL 126.83625 239.758125 \nL 126.83625 167.278125 \n\" style=\"fill:#03051a;\"/>\n    <path clip-path=\"url(#p29367ac0b2)\" d=\"M 216.11625 167.278125 \nL 305.39625 167.278125 \nL 305.39625 239.758125 \nL 216.11625 239.758125 \nL 216.11625 167.278125 \n\" style=\"fill:#faebdd;\"/>\n   </g>\n   <g id=\"matplotlib.axis_1\">\n    <g id=\"xtick_1\">\n     <g id=\"line2d_1\">\n      <defs>\n       <path d=\"M 0 0 \nL 0 3.5 \n\" id=\"m2bc3600fb8\" style=\"stroke:#000000;stroke-width:0.8;\"/>\n      </defs>\n      <g>\n       <use style=\"stroke:#000000;stroke-width:0.8;\" x=\"82.19625\" xlink:href=\"#m2bc3600fb8\" y=\"239.758125\"/>\n      </g>\n     </g>\n     <g id=\"text_1\">\n      <!-- Approval -->\n      <g transform=\"translate(60.012656 254.356562)scale(0.1 -0.1)\">\n       <defs>\n        <path d=\"M 2188 4044 \nL 1331 1722 \nL 3047 1722 \nL 2188 4044 \nz\nM 1831 4666 \nL 2547 4666 \nL 4325 0 \nL 3669 0 \nL 3244 1197 \nL 1141 1197 \nL 716 0 \nL 50 0 \nL 1831 4666 \nz\n\" id=\"DejaVuSans-41\" transform=\"scale(0.015625)\"/>\n        <path d=\"M 1159 525 \nL 1159 -1331 \nL 581 -1331 \nL 581 3500 \nL 1159 3500 \nL 1159 2969 \nQ 1341 3281 1617 3432 \nQ 1894 3584 2278 3584 \nQ 2916 3584 3314 3078 \nQ 3713 2572 3713 1747 \nQ 3713 922 3314 415 \nQ 2916 -91 2278 -91 \nQ 1894 -91 1617 61 \nQ 1341 213 1159 525 \nz\nM 3116 1747 \nQ 3116 2381 2855 2742 \nQ 2594 3103 2138 3103 \nQ 1681 3103 1420 2742 \nQ 1159 2381 1159 1747 \nQ 1159 1113 1420 752 \nQ 1681 391 2138 391 \nQ 2594 391 2855 752 \nQ 3116 1113 3116 1747 \nz\n\" id=\"DejaVuSans-70\" transform=\"scale(0.015625)\"/>\n        <path d=\"M 2631 2963 \nQ 2534 3019 2420 3045 \nQ 2306 3072 2169 3072 \nQ 1681 3072 1420 2755 \nQ 1159 2438 1159 1844 \nL 1159 0 \nL 581 0 \nL 581 3500 \nL 1159 3500 \nL 1159 2956 \nQ 1341 3275 1631 3429 \nQ 1922 3584 2338 3584 \nQ 2397 3584 2469 3576 \nQ 2541 3569 2628 3553 \nL 2631 2963 \nz\n\" id=\"DejaVuSans-72\" transform=\"scale(0.015625)\"/>\n        <path d=\"M 1959 3097 \nQ 1497 3097 1228 2736 \nQ 959 2375 959 1747 \nQ 959 1119 1226 758 \nQ 1494 397 1959 397 \nQ 2419 397 2687 759 \nQ 2956 1122 2956 1747 \nQ 2956 2369 2687 2733 \nQ 2419 3097 1959 3097 \nz\nM 1959 3584 \nQ 2709 3584 3137 3096 \nQ 3566 2609 3566 1747 \nQ 3566 888 3137 398 \nQ 2709 -91 1959 -91 \nQ 1206 -91 779 398 \nQ 353 888 353 1747 \nQ 353 2609 779 3096 \nQ 1206 3584 1959 3584 \nz\n\" id=\"DejaVuSans-6f\" transform=\"scale(0.015625)\"/>\n        <path d=\"M 191 3500 \nL 800 3500 \nL 1894 563 \nL 2988 3500 \nL 3597 3500 \nL 2284 0 \nL 1503 0 \nL 191 3500 \nz\n\" id=\"DejaVuSans-76\" transform=\"scale(0.015625)\"/>\n        <path d=\"M 2194 1759 \nQ 1497 1759 1228 1600 \nQ 959 1441 959 1056 \nQ 959 750 1161 570 \nQ 1363 391 1709 391 \nQ 2188 391 2477 730 \nQ 2766 1069 2766 1631 \nL 2766 1759 \nL 2194 1759 \nz\nM 3341 1997 \nL 3341 0 \nL 2766 0 \nL 2766 531 \nQ 2569 213 2275 61 \nQ 1981 -91 1556 -91 \nQ 1019 -91 701 211 \nQ 384 513 384 1019 \nQ 384 1609 779 1909 \nQ 1175 2209 1959 2209 \nL 2766 2209 \nL 2766 2266 \nQ 2766 2663 2505 2880 \nQ 2244 3097 1772 3097 \nQ 1472 3097 1187 3025 \nQ 903 2953 641 2809 \nL 641 3341 \nQ 956 3463 1253 3523 \nQ 1550 3584 1831 3584 \nQ 2591 3584 2966 3190 \nQ 3341 2797 3341 1997 \nz\n\" id=\"DejaVuSans-61\" transform=\"scale(0.015625)\"/>\n        <path d=\"M 603 4863 \nL 1178 4863 \nL 1178 0 \nL 603 0 \nL 603 4863 \nz\n\" id=\"DejaVuSans-6c\" transform=\"scale(0.015625)\"/>\n       </defs>\n       <use xlink:href=\"#DejaVuSans-41\"/>\n       <use x=\"68.408203\" xlink:href=\"#DejaVuSans-70\"/>\n       <use x=\"131.884766\" xlink:href=\"#DejaVuSans-70\"/>\n       <use x=\"195.361328\" xlink:href=\"#DejaVuSans-72\"/>\n       <use x=\"234.224609\" xlink:href=\"#DejaVuSans-6f\"/>\n       <use x=\"295.40625\" xlink:href=\"#DejaVuSans-76\"/>\n       <use x=\"354.585938\" xlink:href=\"#DejaVuSans-61\"/>\n       <use x=\"415.865234\" xlink:href=\"#DejaVuSans-6c\"/>\n      </g>\n     </g>\n    </g>\n    <g id=\"xtick_2\">\n     <g id=\"line2d_2\">\n      <g>\n       <use style=\"stroke:#000000;stroke-width:0.8;\" x=\"171.47625\" xlink:href=\"#m2bc3600fb8\" y=\"239.758125\"/>\n      </g>\n     </g>\n     <g id=\"text_2\">\n      <!-- Disapproval -->\n      <g transform=\"translate(141.805156 254.356562)scale(0.1 -0.1)\">\n       <defs>\n        <path d=\"M 1259 4147 \nL 1259 519 \nL 2022 519 \nQ 2988 519 3436 956 \nQ 3884 1394 3884 2338 \nQ 3884 3275 3436 3711 \nQ 2988 4147 2022 4147 \nL 1259 4147 \nz\nM 628 4666 \nL 1925 4666 \nQ 3281 4666 3915 4102 \nQ 4550 3538 4550 2338 \nQ 4550 1131 3912 565 \nQ 3275 0 1925 0 \nL 628 0 \nL 628 4666 \nz\n\" id=\"DejaVuSans-44\" transform=\"scale(0.015625)\"/>\n        <path d=\"M 603 3500 \nL 1178 3500 \nL 1178 0 \nL 603 0 \nL 603 3500 \nz\nM 603 4863 \nL 1178 4863 \nL 1178 4134 \nL 603 4134 \nL 603 4863 \nz\n\" id=\"DejaVuSans-69\" transform=\"scale(0.015625)\"/>\n        <path d=\"M 2834 3397 \nL 2834 2853 \nQ 2591 2978 2328 3040 \nQ 2066 3103 1784 3103 \nQ 1356 3103 1142 2972 \nQ 928 2841 928 2578 \nQ 928 2378 1081 2264 \nQ 1234 2150 1697 2047 \nL 1894 2003 \nQ 2506 1872 2764 1633 \nQ 3022 1394 3022 966 \nQ 3022 478 2636 193 \nQ 2250 -91 1575 -91 \nQ 1294 -91 989 -36 \nQ 684 19 347 128 \nL 347 722 \nQ 666 556 975 473 \nQ 1284 391 1588 391 \nQ 1994 391 2212 530 \nQ 2431 669 2431 922 \nQ 2431 1156 2273 1281 \nQ 2116 1406 1581 1522 \nL 1381 1569 \nQ 847 1681 609 1914 \nQ 372 2147 372 2553 \nQ 372 3047 722 3315 \nQ 1072 3584 1716 3584 \nQ 2034 3584 2315 3537 \nQ 2597 3491 2834 3397 \nz\n\" id=\"DejaVuSans-73\" transform=\"scale(0.015625)\"/>\n       </defs>\n       <use xlink:href=\"#DejaVuSans-44\"/>\n       <use x=\"77.001953\" xlink:href=\"#DejaVuSans-69\"/>\n       <use x=\"104.785156\" xlink:href=\"#DejaVuSans-73\"/>\n       <use x=\"156.884766\" xlink:href=\"#DejaVuSans-61\"/>\n       <use x=\"218.164062\" xlink:href=\"#DejaVuSans-70\"/>\n       <use x=\"281.640625\" xlink:href=\"#DejaVuSans-70\"/>\n       <use x=\"345.117188\" xlink:href=\"#DejaVuSans-72\"/>\n       <use x=\"383.980469\" xlink:href=\"#DejaVuSans-6f\"/>\n       <use x=\"445.162109\" xlink:href=\"#DejaVuSans-76\"/>\n       <use x=\"504.341797\" xlink:href=\"#DejaVuSans-61\"/>\n       <use x=\"565.621094\" xlink:href=\"#DejaVuSans-6c\"/>\n      </g>\n     </g>\n    </g>\n    <g id=\"xtick_3\">\n     <g id=\"line2d_3\">\n      <g>\n       <use style=\"stroke:#000000;stroke-width:0.8;\" x=\"260.75625\" xlink:href=\"#m2bc3600fb8\" y=\"239.758125\"/>\n      </g>\n     </g>\n     <g id=\"text_3\">\n      <!-- Neutral -->\n      <g transform=\"translate(242.301563 254.356562)scale(0.1 -0.1)\">\n       <defs>\n        <path d=\"M 628 4666 \nL 1478 4666 \nL 3547 763 \nL 3547 4666 \nL 4159 4666 \nL 4159 0 \nL 3309 0 \nL 1241 3903 \nL 1241 0 \nL 628 0 \nL 628 4666 \nz\n\" id=\"DejaVuSans-4e\" transform=\"scale(0.015625)\"/>\n        <path d=\"M 3597 1894 \nL 3597 1613 \nL 953 1613 \nQ 991 1019 1311 708 \nQ 1631 397 2203 397 \nQ 2534 397 2845 478 \nQ 3156 559 3463 722 \nL 3463 178 \nQ 3153 47 2828 -22 \nQ 2503 -91 2169 -91 \nQ 1331 -91 842 396 \nQ 353 884 353 1716 \nQ 353 2575 817 3079 \nQ 1281 3584 2069 3584 \nQ 2775 3584 3186 3129 \nQ 3597 2675 3597 1894 \nz\nM 3022 2063 \nQ 3016 2534 2758 2815 \nQ 2500 3097 2075 3097 \nQ 1594 3097 1305 2825 \nQ 1016 2553 972 2059 \nL 3022 2063 \nz\n\" id=\"DejaVuSans-65\" transform=\"scale(0.015625)\"/>\n        <path d=\"M 544 1381 \nL 544 3500 \nL 1119 3500 \nL 1119 1403 \nQ 1119 906 1312 657 \nQ 1506 409 1894 409 \nQ 2359 409 2629 706 \nQ 2900 1003 2900 1516 \nL 2900 3500 \nL 3475 3500 \nL 3475 0 \nL 2900 0 \nL 2900 538 \nQ 2691 219 2414 64 \nQ 2138 -91 1772 -91 \nQ 1169 -91 856 284 \nQ 544 659 544 1381 \nz\nM 1991 3584 \nL 1991 3584 \nz\n\" id=\"DejaVuSans-75\" transform=\"scale(0.015625)\"/>\n        <path d=\"M 1172 4494 \nL 1172 3500 \nL 2356 3500 \nL 2356 3053 \nL 1172 3053 \nL 1172 1153 \nQ 1172 725 1289 603 \nQ 1406 481 1766 481 \nL 2356 481 \nL 2356 0 \nL 1766 0 \nQ 1100 0 847 248 \nQ 594 497 594 1153 \nL 594 3053 \nL 172 3053 \nL 172 3500 \nL 594 3500 \nL 594 4494 \nL 1172 4494 \nz\n\" id=\"DejaVuSans-74\" transform=\"scale(0.015625)\"/>\n       </defs>\n       <use xlink:href=\"#DejaVuSans-4e\"/>\n       <use x=\"74.804688\" xlink:href=\"#DejaVuSans-65\"/>\n       <use x=\"136.328125\" xlink:href=\"#DejaVuSans-75\"/>\n       <use x=\"199.707031\" xlink:href=\"#DejaVuSans-74\"/>\n       <use x=\"238.916016\" xlink:href=\"#DejaVuSans-72\"/>\n       <use x=\"280.029297\" xlink:href=\"#DejaVuSans-61\"/>\n       <use x=\"341.308594\" xlink:href=\"#DejaVuSans-6c\"/>\n      </g>\n     </g>\n    </g>\n    <g id=\"text_4\">\n     <!-- Predicted labels -->\n     <g transform=\"translate(131.719219 268.034687)scale(0.1 -0.1)\">\n      <defs>\n       <path d=\"M 1259 4147 \nL 1259 2394 \nL 2053 2394 \nQ 2494 2394 2734 2622 \nQ 2975 2850 2975 3272 \nQ 2975 3691 2734 3919 \nQ 2494 4147 2053 4147 \nL 1259 4147 \nz\nM 628 4666 \nL 2053 4666 \nQ 2838 4666 3239 4311 \nQ 3641 3956 3641 3272 \nQ 3641 2581 3239 2228 \nQ 2838 1875 2053 1875 \nL 1259 1875 \nL 1259 0 \nL 628 0 \nL 628 4666 \nz\n\" id=\"DejaVuSans-50\" transform=\"scale(0.015625)\"/>\n       <path d=\"M 2906 2969 \nL 2906 4863 \nL 3481 4863 \nL 3481 0 \nL 2906 0 \nL 2906 525 \nQ 2725 213 2448 61 \nQ 2172 -91 1784 -91 \nQ 1150 -91 751 415 \nQ 353 922 353 1747 \nQ 353 2572 751 3078 \nQ 1150 3584 1784 3584 \nQ 2172 3584 2448 3432 \nQ 2725 3281 2906 2969 \nz\nM 947 1747 \nQ 947 1113 1208 752 \nQ 1469 391 1925 391 \nQ 2381 391 2643 752 \nQ 2906 1113 2906 1747 \nQ 2906 2381 2643 2742 \nQ 2381 3103 1925 3103 \nQ 1469 3103 1208 2742 \nQ 947 2381 947 1747 \nz\n\" id=\"DejaVuSans-64\" transform=\"scale(0.015625)\"/>\n       <path d=\"M 3122 3366 \nL 3122 2828 \nQ 2878 2963 2633 3030 \nQ 2388 3097 2138 3097 \nQ 1578 3097 1268 2742 \nQ 959 2388 959 1747 \nQ 959 1106 1268 751 \nQ 1578 397 2138 397 \nQ 2388 397 2633 464 \nQ 2878 531 3122 666 \nL 3122 134 \nQ 2881 22 2623 -34 \nQ 2366 -91 2075 -91 \nQ 1284 -91 818 406 \nQ 353 903 353 1747 \nQ 353 2603 823 3093 \nQ 1294 3584 2113 3584 \nQ 2378 3584 2631 3529 \nQ 2884 3475 3122 3366 \nz\n\" id=\"DejaVuSans-63\" transform=\"scale(0.015625)\"/>\n       <path id=\"DejaVuSans-20\" transform=\"scale(0.015625)\"/>\n       <path d=\"M 3116 1747 \nQ 3116 2381 2855 2742 \nQ 2594 3103 2138 3103 \nQ 1681 3103 1420 2742 \nQ 1159 2381 1159 1747 \nQ 1159 1113 1420 752 \nQ 1681 391 2138 391 \nQ 2594 391 2855 752 \nQ 3116 1113 3116 1747 \nz\nM 1159 2969 \nQ 1341 3281 1617 3432 \nQ 1894 3584 2278 3584 \nQ 2916 3584 3314 3078 \nQ 3713 2572 3713 1747 \nQ 3713 922 3314 415 \nQ 2916 -91 2278 -91 \nQ 1894 -91 1617 61 \nQ 1341 213 1159 525 \nL 1159 0 \nL 581 0 \nL 581 4863 \nL 1159 4863 \nL 1159 2969 \nz\n\" id=\"DejaVuSans-62\" transform=\"scale(0.015625)\"/>\n      </defs>\n      <use xlink:href=\"#DejaVuSans-50\"/>\n      <use x=\"58.552734\" xlink:href=\"#DejaVuSans-72\"/>\n      <use x=\"97.416016\" xlink:href=\"#DejaVuSans-65\"/>\n      <use x=\"158.939453\" xlink:href=\"#DejaVuSans-64\"/>\n      <use x=\"222.416016\" xlink:href=\"#DejaVuSans-69\"/>\n      <use x=\"250.199219\" xlink:href=\"#DejaVuSans-63\"/>\n      <use x=\"305.179688\" xlink:href=\"#DejaVuSans-74\"/>\n      <use x=\"344.388672\" xlink:href=\"#DejaVuSans-65\"/>\n      <use x=\"405.912109\" xlink:href=\"#DejaVuSans-64\"/>\n      <use x=\"469.388672\" xlink:href=\"#DejaVuSans-20\"/>\n      <use x=\"501.175781\" xlink:href=\"#DejaVuSans-6c\"/>\n      <use x=\"528.958984\" xlink:href=\"#DejaVuSans-61\"/>\n      <use x=\"590.238281\" xlink:href=\"#DejaVuSans-62\"/>\n      <use x=\"653.714844\" xlink:href=\"#DejaVuSans-65\"/>\n      <use x=\"715.238281\" xlink:href=\"#DejaVuSans-6c\"/>\n      <use x=\"743.021484\" xlink:href=\"#DejaVuSans-73\"/>\n     </g>\n    </g>\n   </g>\n   <g id=\"matplotlib.axis_2\">\n    <g id=\"ytick_1\">\n     <g id=\"line2d_4\">\n      <defs>\n       <path d=\"M 0 0 \nL -3.5 0 \n\" id=\"m4827c0dce1\" style=\"stroke:#000000;stroke-width:0.8;\"/>\n      </defs>\n      <g>\n       <use style=\"stroke:#000000;stroke-width:0.8;\" x=\"37.55625\" xlink:href=\"#m4827c0dce1\" y=\"58.558125\"/>\n      </g>\n     </g>\n     <g id=\"text_5\">\n      <!-- Approval -->\n      <g transform=\"translate(28.476563 99.126094)rotate(-90)scale(0.1 -0.1)\">\n       <use xlink:href=\"#DejaVuSans-41\"/>\n       <use x=\"68.408203\" xlink:href=\"#DejaVuSans-70\"/>\n       <use x=\"131.884766\" xlink:href=\"#DejaVuSans-70\"/>\n       <use x=\"195.361328\" xlink:href=\"#DejaVuSans-72\"/>\n       <use x=\"234.224609\" xlink:href=\"#DejaVuSans-6f\"/>\n       <use x=\"295.40625\" xlink:href=\"#DejaVuSans-76\"/>\n       <use x=\"354.585938\" xlink:href=\"#DejaVuSans-61\"/>\n       <use x=\"415.865234\" xlink:href=\"#DejaVuSans-6c\"/>\n      </g>\n     </g>\n    </g>\n    <g id=\"ytick_2\">\n     <g id=\"line2d_5\">\n      <g>\n       <use style=\"stroke:#000000;stroke-width:0.8;\" x=\"37.55625\" xlink:href=\"#m4827c0dce1\" y=\"131.038125\"/>\n      </g>\n     </g>\n     <g id=\"text_6\">\n      <!-- Disapproval -->\n      <g transform=\"translate(28.476563 186.581094)rotate(-90)scale(0.1 -0.1)\">\n       <use xlink:href=\"#DejaVuSans-44\"/>\n       <use x=\"77.001953\" xlink:href=\"#DejaVuSans-69\"/>\n       <use x=\"104.785156\" xlink:href=\"#DejaVuSans-73\"/>\n       <use x=\"156.884766\" xlink:href=\"#DejaVuSans-61\"/>\n       <use x=\"218.164062\" xlink:href=\"#DejaVuSans-70\"/>\n       <use x=\"281.640625\" xlink:href=\"#DejaVuSans-70\"/>\n       <use x=\"345.117188\" xlink:href=\"#DejaVuSans-72\"/>\n       <use x=\"383.980469\" xlink:href=\"#DejaVuSans-6f\"/>\n       <use x=\"445.162109\" xlink:href=\"#DejaVuSans-76\"/>\n       <use x=\"504.341797\" xlink:href=\"#DejaVuSans-61\"/>\n       <use x=\"565.621094\" xlink:href=\"#DejaVuSans-6c\"/>\n      </g>\n     </g>\n    </g>\n    <g id=\"ytick_3\">\n     <g id=\"line2d_6\">\n      <g>\n       <use style=\"stroke:#000000;stroke-width:0.8;\" x=\"37.55625\" xlink:href=\"#m4827c0dce1\" y=\"203.518125\"/>\n      </g>\n     </g>\n     <g id=\"text_7\">\n      <!-- Neutral -->\n      <g transform=\"translate(28.476563 236.628281)rotate(-90)scale(0.1 -0.1)\">\n       <use xlink:href=\"#DejaVuSans-4e\"/>\n       <use x=\"74.804688\" xlink:href=\"#DejaVuSans-65\"/>\n       <use x=\"136.328125\" xlink:href=\"#DejaVuSans-75\"/>\n       <use x=\"199.707031\" xlink:href=\"#DejaVuSans-74\"/>\n       <use x=\"238.916016\" xlink:href=\"#DejaVuSans-72\"/>\n       <use x=\"280.029297\" xlink:href=\"#DejaVuSans-61\"/>\n       <use x=\"341.308594\" xlink:href=\"#DejaVuSans-6c\"/>\n      </g>\n     </g>\n    </g>\n    <g id=\"text_8\">\n     <!-- True labels -->\n     <g transform=\"translate(14.798438 157.942031)rotate(-90)scale(0.1 -0.1)\">\n      <defs>\n       <path d=\"M -19 4666 \nL 3928 4666 \nL 3928 4134 \nL 2272 4134 \nL 2272 0 \nL 1638 0 \nL 1638 4134 \nL -19 4134 \nL -19 4666 \nz\n\" id=\"DejaVuSans-54\" transform=\"scale(0.015625)\"/>\n      </defs>\n      <use xlink:href=\"#DejaVuSans-54\"/>\n      <use x=\"46.333984\" xlink:href=\"#DejaVuSans-72\"/>\n      <use x=\"87.447266\" xlink:href=\"#DejaVuSans-75\"/>\n      <use x=\"150.826172\" xlink:href=\"#DejaVuSans-65\"/>\n      <use x=\"212.349609\" xlink:href=\"#DejaVuSans-20\"/>\n      <use x=\"244.136719\" xlink:href=\"#DejaVuSans-6c\"/>\n      <use x=\"271.919922\" xlink:href=\"#DejaVuSans-61\"/>\n      <use x=\"333.199219\" xlink:href=\"#DejaVuSans-62\"/>\n      <use x=\"396.675781\" xlink:href=\"#DejaVuSans-65\"/>\n      <use x=\"458.199219\" xlink:href=\"#DejaVuSans-6c\"/>\n      <use x=\"485.982422\" xlink:href=\"#DejaVuSans-73\"/>\n     </g>\n    </g>\n   </g>\n   <g id=\"text_9\">\n    <!-- 1354 -->\n    <g style=\"fill:#ffffff;\" transform=\"translate(69.47125 61.3175)scale(0.1 -0.1)\">\n     <defs>\n      <path d=\"M 794 531 \nL 1825 531 \nL 1825 4091 \nL 703 3866 \nL 703 4441 \nL 1819 4666 \nL 2450 4666 \nL 2450 531 \nL 3481 531 \nL 3481 0 \nL 794 0 \nL 794 531 \nz\n\" id=\"DejaVuSans-31\" transform=\"scale(0.015625)\"/>\n      <path d=\"M 2597 2516 \nQ 3050 2419 3304 2112 \nQ 3559 1806 3559 1356 \nQ 3559 666 3084 287 \nQ 2609 -91 1734 -91 \nQ 1441 -91 1130 -33 \nQ 819 25 488 141 \nL 488 750 \nQ 750 597 1062 519 \nQ 1375 441 1716 441 \nQ 2309 441 2620 675 \nQ 2931 909 2931 1356 \nQ 2931 1769 2642 2001 \nQ 2353 2234 1838 2234 \nL 1294 2234 \nL 1294 2753 \nL 1863 2753 \nQ 2328 2753 2575 2939 \nQ 2822 3125 2822 3475 \nQ 2822 3834 2567 4026 \nQ 2313 4219 1838 4219 \nQ 1578 4219 1281 4162 \nQ 984 4106 628 3988 \nL 628 4550 \nQ 988 4650 1302 4700 \nQ 1616 4750 1894 4750 \nQ 2613 4750 3031 4423 \nQ 3450 4097 3450 3541 \nQ 3450 3153 3228 2886 \nQ 3006 2619 2597 2516 \nz\n\" id=\"DejaVuSans-33\" transform=\"scale(0.015625)\"/>\n      <path d=\"M 691 4666 \nL 3169 4666 \nL 3169 4134 \nL 1269 4134 \nL 1269 2991 \nQ 1406 3038 1543 3061 \nQ 1681 3084 1819 3084 \nQ 2600 3084 3056 2656 \nQ 3513 2228 3513 1497 \nQ 3513 744 3044 326 \nQ 2575 -91 1722 -91 \nQ 1428 -91 1123 -41 \nQ 819 9 494 109 \nL 494 744 \nQ 775 591 1075 516 \nQ 1375 441 1709 441 \nQ 2250 441 2565 725 \nQ 2881 1009 2881 1497 \nQ 2881 1984 2565 2268 \nQ 2250 2553 1709 2553 \nQ 1456 2553 1204 2497 \nQ 953 2441 691 2322 \nL 691 4666 \nz\n\" id=\"DejaVuSans-35\" transform=\"scale(0.015625)\"/>\n      <path d=\"M 2419 4116 \nL 825 1625 \nL 2419 1625 \nL 2419 4116 \nz\nM 2253 4666 \nL 3047 4666 \nL 3047 1625 \nL 3713 1625 \nL 3713 1100 \nL 3047 1100 \nL 3047 0 \nL 2419 0 \nL 2419 1100 \nL 313 1100 \nL 313 1709 \nL 2253 4666 \nz\n\" id=\"DejaVuSans-34\" transform=\"scale(0.015625)\"/>\n     </defs>\n     <use xlink:href=\"#DejaVuSans-31\"/>\n     <use x=\"63.623047\" xlink:href=\"#DejaVuSans-33\"/>\n     <use x=\"127.246094\" xlink:href=\"#DejaVuSans-35\"/>\n     <use x=\"190.869141\" xlink:href=\"#DejaVuSans-34\"/>\n    </g>\n   </g>\n   <g id=\"text_10\">\n    <!-- 39 -->\n    <g style=\"fill:#ffffff;\" transform=\"translate(165.11375 61.3175)scale(0.1 -0.1)\">\n     <defs>\n      <path d=\"M 703 97 \nL 703 672 \nQ 941 559 1184 500 \nQ 1428 441 1663 441 \nQ 2288 441 2617 861 \nQ 2947 1281 2994 2138 \nQ 2813 1869 2534 1725 \nQ 2256 1581 1919 1581 \nQ 1219 1581 811 2004 \nQ 403 2428 403 3163 \nQ 403 3881 828 4315 \nQ 1253 4750 1959 4750 \nQ 2769 4750 3195 4129 \nQ 3622 3509 3622 2328 \nQ 3622 1225 3098 567 \nQ 2575 -91 1691 -91 \nQ 1453 -91 1209 -44 \nQ 966 3 703 97 \nz\nM 1959 2075 \nQ 2384 2075 2632 2365 \nQ 2881 2656 2881 3163 \nQ 2881 3666 2632 3958 \nQ 2384 4250 1959 4250 \nQ 1534 4250 1286 3958 \nQ 1038 3666 1038 3163 \nQ 1038 2656 1286 2365 \nQ 1534 2075 1959 2075 \nz\n\" id=\"DejaVuSans-39\" transform=\"scale(0.015625)\"/>\n     </defs>\n     <use xlink:href=\"#DejaVuSans-33\"/>\n     <use x=\"63.623047\" xlink:href=\"#DejaVuSans-39\"/>\n    </g>\n   </g>\n   <g id=\"text_11\">\n    <!-- 39 -->\n    <g style=\"fill:#ffffff;\" transform=\"translate(254.39375 61.3175)scale(0.1 -0.1)\">\n     <use xlink:href=\"#DejaVuSans-33\"/>\n     <use x=\"63.623047\" xlink:href=\"#DejaVuSans-39\"/>\n    </g>\n   </g>\n   <g id=\"text_12\">\n    <!-- 44 -->\n    <g style=\"fill:#ffffff;\" transform=\"translate(75.83375 133.7975)scale(0.1 -0.1)\">\n     <use xlink:href=\"#DejaVuSans-34\"/>\n     <use x=\"63.623047\" xlink:href=\"#DejaVuSans-34\"/>\n    </g>\n   </g>\n   <g id=\"text_13\">\n    <!-- 246 -->\n    <g style=\"fill:#ffffff;\" transform=\"translate(161.9325 133.7975)scale(0.1 -0.1)\">\n     <defs>\n      <path d=\"M 1228 531 \nL 3431 531 \nL 3431 0 \nL 469 0 \nL 469 531 \nQ 828 903 1448 1529 \nQ 2069 2156 2228 2338 \nQ 2531 2678 2651 2914 \nQ 2772 3150 2772 3378 \nQ 2772 3750 2511 3984 \nQ 2250 4219 1831 4219 \nQ 1534 4219 1204 4116 \nQ 875 4013 500 3803 \nL 500 4441 \nQ 881 4594 1212 4672 \nQ 1544 4750 1819 4750 \nQ 2544 4750 2975 4387 \nQ 3406 4025 3406 3419 \nQ 3406 3131 3298 2873 \nQ 3191 2616 2906 2266 \nQ 2828 2175 2409 1742 \nQ 1991 1309 1228 531 \nz\n\" id=\"DejaVuSans-32\" transform=\"scale(0.015625)\"/>\n      <path d=\"M 2113 2584 \nQ 1688 2584 1439 2293 \nQ 1191 2003 1191 1497 \nQ 1191 994 1439 701 \nQ 1688 409 2113 409 \nQ 2538 409 2786 701 \nQ 3034 994 3034 1497 \nQ 3034 2003 2786 2293 \nQ 2538 2584 2113 2584 \nz\nM 3366 4563 \nL 3366 3988 \nQ 3128 4100 2886 4159 \nQ 2644 4219 2406 4219 \nQ 1781 4219 1451 3797 \nQ 1122 3375 1075 2522 \nQ 1259 2794 1537 2939 \nQ 1816 3084 2150 3084 \nQ 2853 3084 3261 2657 \nQ 3669 2231 3669 1497 \nQ 3669 778 3244 343 \nQ 2819 -91 2113 -91 \nQ 1303 -91 875 529 \nQ 447 1150 447 2328 \nQ 447 3434 972 4092 \nQ 1497 4750 2381 4750 \nQ 2619 4750 2861 4703 \nQ 3103 4656 3366 4563 \nz\n\" id=\"DejaVuSans-36\" transform=\"scale(0.015625)\"/>\n     </defs>\n     <use xlink:href=\"#DejaVuSans-32\"/>\n     <use x=\"63.623047\" xlink:href=\"#DejaVuSans-34\"/>\n     <use x=\"127.246094\" xlink:href=\"#DejaVuSans-36\"/>\n    </g>\n   </g>\n   <g id=\"text_14\">\n    <!-- 22 -->\n    <g style=\"fill:#ffffff;\" transform=\"translate(254.39375 133.7975)scale(0.1 -0.1)\">\n     <use xlink:href=\"#DejaVuSans-32\"/>\n     <use x=\"63.623047\" xlink:href=\"#DejaVuSans-32\"/>\n    </g>\n   </g>\n   <g id=\"text_15\">\n    <!-- 8 -->\n    <g style=\"fill:#ffffff;\" transform=\"translate(79.015 206.2775)scale(0.1 -0.1)\">\n     <defs>\n      <path d=\"M 2034 2216 \nQ 1584 2216 1326 1975 \nQ 1069 1734 1069 1313 \nQ 1069 891 1326 650 \nQ 1584 409 2034 409 \nQ 2484 409 2743 651 \nQ 3003 894 3003 1313 \nQ 3003 1734 2745 1975 \nQ 2488 2216 2034 2216 \nz\nM 1403 2484 \nQ 997 2584 770 2862 \nQ 544 3141 544 3541 \nQ 544 4100 942 4425 \nQ 1341 4750 2034 4750 \nQ 2731 4750 3128 4425 \nQ 3525 4100 3525 3541 \nQ 3525 3141 3298 2862 \nQ 3072 2584 2669 2484 \nQ 3125 2378 3379 2068 \nQ 3634 1759 3634 1313 \nQ 3634 634 3220 271 \nQ 2806 -91 2034 -91 \nQ 1263 -91 848 271 \nQ 434 634 434 1313 \nQ 434 1759 690 2068 \nQ 947 2378 1403 2484 \nz\nM 1172 3481 \nQ 1172 3119 1398 2916 \nQ 1625 2713 2034 2713 \nQ 2441 2713 2670 2916 \nQ 2900 3119 2900 3481 \nQ 2900 3844 2670 4047 \nQ 2441 4250 2034 4250 \nQ 1625 4250 1398 4047 \nQ 1172 3844 1172 3481 \nz\n\" id=\"DejaVuSans-38\" transform=\"scale(0.015625)\"/>\n     </defs>\n     <use xlink:href=\"#DejaVuSans-38\"/>\n    </g>\n   </g>\n   <g id=\"text_16\">\n    <!-- 2 -->\n    <g style=\"fill:#ffffff;\" transform=\"translate(168.295 206.2775)scale(0.1 -0.1)\">\n     <use xlink:href=\"#DejaVuSans-32\"/>\n    </g>\n   </g>\n   <g id=\"text_17\">\n    <!-- 5862 -->\n    <g style=\"fill:#262626;\" transform=\"translate(248.03125 206.2775)scale(0.1 -0.1)\">\n     <use xlink:href=\"#DejaVuSans-35\"/>\n     <use x=\"63.623047\" xlink:href=\"#DejaVuSans-38\"/>\n     <use x=\"127.246094\" xlink:href=\"#DejaVuSans-36\"/>\n     <use x=\"190.869141\" xlink:href=\"#DejaVuSans-32\"/>\n    </g>\n   </g>\n   <g id=\"text_18\">\n    <!-- Confusion Matrix -->\n    <g transform=\"translate(120.834375 16.318125)scale(0.12 -0.12)\">\n     <defs>\n      <path d=\"M 4122 4306 \nL 4122 3641 \nQ 3803 3938 3442 4084 \nQ 3081 4231 2675 4231 \nQ 1875 4231 1450 3742 \nQ 1025 3253 1025 2328 \nQ 1025 1406 1450 917 \nQ 1875 428 2675 428 \nQ 3081 428 3442 575 \nQ 3803 722 4122 1019 \nL 4122 359 \nQ 3791 134 3420 21 \nQ 3050 -91 2638 -91 \nQ 1578 -91 968 557 \nQ 359 1206 359 2328 \nQ 359 3453 968 4101 \nQ 1578 4750 2638 4750 \nQ 3056 4750 3426 4639 \nQ 3797 4528 4122 4306 \nz\n\" id=\"DejaVuSans-43\" transform=\"scale(0.015625)\"/>\n      <path d=\"M 3513 2113 \nL 3513 0 \nL 2938 0 \nL 2938 2094 \nQ 2938 2591 2744 2837 \nQ 2550 3084 2163 3084 \nQ 1697 3084 1428 2787 \nQ 1159 2491 1159 1978 \nL 1159 0 \nL 581 0 \nL 581 3500 \nL 1159 3500 \nL 1159 2956 \nQ 1366 3272 1645 3428 \nQ 1925 3584 2291 3584 \nQ 2894 3584 3203 3211 \nQ 3513 2838 3513 2113 \nz\n\" id=\"DejaVuSans-6e\" transform=\"scale(0.015625)\"/>\n      <path d=\"M 2375 4863 \nL 2375 4384 \nL 1825 4384 \nQ 1516 4384 1395 4259 \nQ 1275 4134 1275 3809 \nL 1275 3500 \nL 2222 3500 \nL 2222 3053 \nL 1275 3053 \nL 1275 0 \nL 697 0 \nL 697 3053 \nL 147 3053 \nL 147 3500 \nL 697 3500 \nL 697 3744 \nQ 697 4328 969 4595 \nQ 1241 4863 1831 4863 \nL 2375 4863 \nz\n\" id=\"DejaVuSans-66\" transform=\"scale(0.015625)\"/>\n      <path d=\"M 628 4666 \nL 1569 4666 \nL 2759 1491 \nL 3956 4666 \nL 4897 4666 \nL 4897 0 \nL 4281 0 \nL 4281 4097 \nL 3078 897 \nL 2444 897 \nL 1241 4097 \nL 1241 0 \nL 628 0 \nL 628 4666 \nz\n\" id=\"DejaVuSans-4d\" transform=\"scale(0.015625)\"/>\n      <path d=\"M 3513 3500 \nL 2247 1797 \nL 3578 0 \nL 2900 0 \nL 1881 1375 \nL 863 0 \nL 184 0 \nL 1544 1831 \nL 300 3500 \nL 978 3500 \nL 1906 2253 \nL 2834 3500 \nL 3513 3500 \nz\n\" id=\"DejaVuSans-78\" transform=\"scale(0.015625)\"/>\n     </defs>\n     <use xlink:href=\"#DejaVuSans-43\"/>\n     <use x=\"69.824219\" xlink:href=\"#DejaVuSans-6f\"/>\n     <use x=\"131.005859\" xlink:href=\"#DejaVuSans-6e\"/>\n     <use x=\"194.384766\" xlink:href=\"#DejaVuSans-66\"/>\n     <use x=\"229.589844\" xlink:href=\"#DejaVuSans-75\"/>\n     <use x=\"292.96875\" xlink:href=\"#DejaVuSans-73\"/>\n     <use x=\"345.068359\" xlink:href=\"#DejaVuSans-69\"/>\n     <use x=\"372.851562\" xlink:href=\"#DejaVuSans-6f\"/>\n     <use x=\"434.033203\" xlink:href=\"#DejaVuSans-6e\"/>\n     <use x=\"497.412109\" xlink:href=\"#DejaVuSans-20\"/>\n     <use x=\"529.199219\" xlink:href=\"#DejaVuSans-4d\"/>\n     <use x=\"615.478516\" xlink:href=\"#DejaVuSans-61\"/>\n     <use x=\"676.757812\" xlink:href=\"#DejaVuSans-74\"/>\n     <use x=\"715.966797\" xlink:href=\"#DejaVuSans-72\"/>\n     <use x=\"757.080078\" xlink:href=\"#DejaVuSans-69\"/>\n     <use x=\"784.863281\" xlink:href=\"#DejaVuSans-78\"/>\n    </g>\n   </g>\n  </g>\n  <g id=\"axes_2\">\n   <g id=\"patch_3\">\n    <path d=\"M 322.13625 239.758125 \nL 333.00825 239.758125 \nL 333.00825 22.318125 \nL 322.13625 22.318125 \nz\n\" style=\"fill:#ffffff;\"/>\n   </g>\n   <g id=\"patch_4\">\n    <path clip-path=\"url(#p59866135be)\" d=\"M 322.13625 239.758125 \nL 322.13625 238.90875 \nL 322.13625 23.1675 \nL 322.13625 22.318125 \nL 333.00825 22.318125 \nL 333.00825 23.1675 \nL 333.00825 238.90875 \nL 333.00825 239.758125 \nL 333.00825 239.758125 \nz\n\" style=\"fill:#ffffff;stroke:#ffffff;stroke-linejoin:miter;stroke-width:0.01;\"/>\n   </g>\n   <image height=\"217\" id=\"imagec65dc1b1d9\" transform=\"scale(1 -1)translate(0 -217)\" width=\"11\" x=\"322\" xlink:href=\"data:image/png;base64,\niVBORw0KGgoAAAANSUhEUgAAAAsAAADZCAYAAAD2WsoCAAABSklEQVR4nO2YMQ7DQAgE4SCfyP/fGadOxxQjYSuu0WrYRdz5sl/vK4ZfZ+a0lhaHpXxIceWxMJ7eIEoQMXs+QzdIseeG1qCHISqLca9gFof/hgkiNyrI8I9L3c3PrJt/cBUQZS9uD8MbftM6oMwaZCMKMNbEDZRN5hUYbDbGvweyG6AYDj/BIG54DTI3tARZ3BpGLwlFxJhLm25cAMNcBQCjNGbYoIVR8QHKwGiROcEu6EOKixR7GODCaGIcsJJgg0SZuUGU64DhBz9AMJQlbhxw0kNm0TqijJiZGwjDKgYvFtHZOzDAoWIqg0uEyBxEGTZovV4iZlgMmJl1xI0gb1+eG6m5ETV/4RBD8XxO8ISjxo2mTlMW3SBLRpwNUuwNv8f8+AbFuOf3njXMO9zI9I4JzQ0W94rFiJRZKFuGf4XPidz4N/iDMW/wC9X2KyOK/e8fAAAAAElFTkSuQmCC\" y=\"-22\"/>\n   <g id=\"matplotlib.axis_3\"/>\n   <g id=\"matplotlib.axis_4\">\n    <g id=\"ytick_4\">\n     <g id=\"line2d_7\">\n      <defs>\n       <path d=\"M 0 0 \nL 3.5 0 \n\" id=\"m818eceebac\" style=\"stroke:#000000;stroke-width:0.8;\"/>\n      </defs>\n      <g>\n       <use style=\"stroke:#000000;stroke-width:0.8;\" x=\"333.00825\" xlink:href=\"#m818eceebac\" y=\"202.726535\"/>\n      </g>\n     </g>\n     <g id=\"text_19\">\n      <!-- 1000 -->\n      <g transform=\"translate(340.00825 206.525753)scale(0.1 -0.1)\">\n       <defs>\n        <path d=\"M 2034 4250 \nQ 1547 4250 1301 3770 \nQ 1056 3291 1056 2328 \nQ 1056 1369 1301 889 \nQ 1547 409 2034 409 \nQ 2525 409 2770 889 \nQ 3016 1369 3016 2328 \nQ 3016 3291 2770 3770 \nQ 2525 4250 2034 4250 \nz\nM 2034 4750 \nQ 2819 4750 3233 4129 \nQ 3647 3509 3647 2328 \nQ 3647 1150 3233 529 \nQ 2819 -91 2034 -91 \nQ 1250 -91 836 529 \nQ 422 1150 422 2328 \nQ 422 3509 836 4129 \nQ 1250 4750 2034 4750 \nz\n\" id=\"DejaVuSans-30\" transform=\"scale(0.015625)\"/>\n       </defs>\n       <use xlink:href=\"#DejaVuSans-31\"/>\n       <use x=\"63.623047\" xlink:href=\"#DejaVuSans-30\"/>\n       <use x=\"127.246094\" xlink:href=\"#DejaVuSans-30\"/>\n       <use x=\"190.869141\" xlink:href=\"#DejaVuSans-30\"/>\n      </g>\n     </g>\n    </g>\n    <g id=\"ytick_5\">\n     <g id=\"line2d_8\">\n      <g>\n       <use style=\"stroke:#000000;stroke-width:0.8;\" x=\"333.00825\" xlink:href=\"#m818eceebac\" y=\"165.620733\"/>\n      </g>\n     </g>\n     <g id=\"text_20\">\n      <!-- 2000 -->\n      <g transform=\"translate(340.00825 169.419951)scale(0.1 -0.1)\">\n       <use xlink:href=\"#DejaVuSans-32\"/>\n       <use x=\"63.623047\" xlink:href=\"#DejaVuSans-30\"/>\n       <use x=\"127.246094\" xlink:href=\"#DejaVuSans-30\"/>\n       <use x=\"190.869141\" xlink:href=\"#DejaVuSans-30\"/>\n      </g>\n     </g>\n    </g>\n    <g id=\"ytick_6\">\n     <g id=\"line2d_9\">\n      <g>\n       <use style=\"stroke:#000000;stroke-width:0.8;\" x=\"333.00825\" xlink:href=\"#m818eceebac\" y=\"128.51493\"/>\n      </g>\n     </g>\n     <g id=\"text_21\">\n      <!-- 3000 -->\n      <g transform=\"translate(340.00825 132.314149)scale(0.1 -0.1)\">\n       <use xlink:href=\"#DejaVuSans-33\"/>\n       <use x=\"63.623047\" xlink:href=\"#DejaVuSans-30\"/>\n       <use x=\"127.246094\" xlink:href=\"#DejaVuSans-30\"/>\n       <use x=\"190.869141\" xlink:href=\"#DejaVuSans-30\"/>\n      </g>\n     </g>\n    </g>\n    <g id=\"ytick_7\">\n     <g id=\"line2d_10\">\n      <g>\n       <use style=\"stroke:#000000;stroke-width:0.8;\" x=\"333.00825\" xlink:href=\"#m818eceebac\" y=\"91.409128\"/>\n      </g>\n     </g>\n     <g id=\"text_22\">\n      <!-- 4000 -->\n      <g transform=\"translate(340.00825 95.208347)scale(0.1 -0.1)\">\n       <use xlink:href=\"#DejaVuSans-34\"/>\n       <use x=\"63.623047\" xlink:href=\"#DejaVuSans-30\"/>\n       <use x=\"127.246094\" xlink:href=\"#DejaVuSans-30\"/>\n       <use x=\"190.869141\" xlink:href=\"#DejaVuSans-30\"/>\n      </g>\n     </g>\n    </g>\n    <g id=\"ytick_8\">\n     <g id=\"line2d_11\">\n      <g>\n       <use style=\"stroke:#000000;stroke-width:0.8;\" x=\"333.00825\" xlink:href=\"#m818eceebac\" y=\"54.303326\"/>\n      </g>\n     </g>\n     <g id=\"text_23\">\n      <!-- 5000 -->\n      <g transform=\"translate(340.00825 58.102545)scale(0.1 -0.1)\">\n       <use xlink:href=\"#DejaVuSans-35\"/>\n       <use x=\"63.623047\" xlink:href=\"#DejaVuSans-30\"/>\n       <use x=\"127.246094\" xlink:href=\"#DejaVuSans-30\"/>\n       <use x=\"190.869141\" xlink:href=\"#DejaVuSans-30\"/>\n      </g>\n     </g>\n    </g>\n   </g>\n   <g id=\"LineCollection_1\"/>\n   <g id=\"patch_5\">\n    <path d=\"M 322.13625 239.758125 \nL 322.13625 238.90875 \nL 322.13625 23.1675 \nL 322.13625 22.318125 \nL 333.00825 22.318125 \nL 333.00825 23.1675 \nL 333.00825 238.90875 \nL 333.00825 239.758125 \nz\n\" style=\"fill:none;\"/>\n   </g>\n  </g>\n </g>\n <defs>\n  <clipPath id=\"p29367ac0b2\">\n   <rect height=\"217.44\" width=\"267.84\" x=\"37.55625\" y=\"22.318125\"/>\n  </clipPath>\n  <clipPath id=\"p59866135be\">\n   <rect height=\"217.44\" width=\"10.872\" x=\"322.13625\" y=\"22.318125\"/>\n  </clipPath>\n </defs>\n</svg>\n",
      "image/png": "[encoded data removed]"
     },
     "metadata": {
      "needs_background": "light"
     }
    }
   ],
   "metadata": {}
  },
  {
   "cell_type": "markdown",
   "source": [
    "# TESTING CODE - Scrollers BEWARE\n"
   ],
   "metadata": {}
  },
  {
   "cell_type": "code",
   "execution_count": 45,
   "source": [
    "loaded = load_model('model_checkpoints/model.h5')\n",
    "# model.tf_model.load_weights(\"model_weights.h5\")"
   ],
   "outputs": [],
   "metadata": {}
  },
  {
   "cell_type": "code",
   "execution_count": 50,
   "source": [
    "    image = Image.open('/home/pteradox/Galvanize/capstones/crowd-sound-affect/dataset/step4_split_spectrograms/dataset_test/all_freq/approval_all/approval_bark/appl000000000014.png')"
   ],
   "outputs": [],
   "metadata": {}
  },
  {
   "cell_type": "code",
   "execution_count": 51,
   "source": [
    "def import_and_predict(image_data, model):\n",
    "    \n",
    "        size = (150,150)    \n",
    "        image = ImageOps.fit(image_data, size, Image.ANTIALIAS)\n",
    "        image = np.asarray(image)\n",
    "        img = cv2.cvtColor(image, cv2.COLOR_BGR2RGB)\n",
    "        img_resize = (cv2.resize(img, dsize=(75, 75),    interpolation=cv2.INTER_CUBIC))/255.\n",
    "        \n",
    "        img_reshape = img_resize[np.newaxis,...]\n",
    "    \n",
    "        prediction = model.predict(img_reshape)\n",
    "        \n",
    "        return prediction"
   ],
   "outputs": [],
   "metadata": {}
  },
  {
   "cell_type": "code",
   "execution_count": null,
   "source": [
    "import_and_predict(image, final_model)"
   ],
   "outputs": [],
   "metadata": {}
  },
  {
   "cell_type": "code",
   "execution_count": 15,
   "source": [
    "def classify(img_path):\n",
    "    img = image.load_img(img_path, target_size=(224, 224))\n",
    "    img_array = image.img_to_array(img)\n",
    "\n",
    "    img_batch = np.expand_dims(img_array, axis=0)\n",
    "\n",
    "    img_preprocessed = preprocess_input(img_batch)\n",
    "\n",
    "    model = final_model\n",
    "    prediction = model.predict(img_preprocessed)\n",
    "    "
   ],
   "outputs": [],
   "metadata": {}
  },
  {
   "cell_type": "markdown",
   "source": [
    "### Loading Weights from Saved model"
   ],
   "metadata": {}
  },
  {
   "cell_type": "code",
   "execution_count": 54,
   "source": [
    "final_model = tf.keras.models.load_model('model_checkpoints')\n",
    "final_model\n",
    "\n"
   ],
   "outputs": [
    {
     "output_type": "execute_result",
     "data": {
      "text/plain": [
       "<tensorflow.python.keras.engine.sequential.Sequential at 0x7fa8acac4d90>"
      ]
     },
     "metadata": {},
     "execution_count": 54
    }
   ],
   "metadata": {}
  },
  {
   "cell_type": "code",
   "execution_count": null,
   "source": [],
   "outputs": [],
   "metadata": {}
  },
  {
   "cell_type": "code",
   "execution_count": 7,
   "source": [
    "img = image.load_img('/home/pteradox/Galvanize/capstones/crowd-sound-affect/dataset/step4_split_spectrograms/dataset_test/erb/disapproval/booh000500000016.png', target_size=(224, 224))\n",
    "img_array = image.img_to_array(img)\n",
    "\n",
    "img_batch = np.expand_dims(img_array, axis=0)\n",
    "\n",
    "img_preprocessed = preprocess_input(img_batch)"
   ],
   "outputs": [],
   "metadata": {}
  },
  {
   "cell_type": "code",
   "execution_count": 8,
   "source": [
    "\n",
    "class_dict = {0:'Approval', 1:'Disapproval', 2:'Neutral'}\n",
    "class_dict"
   ],
   "outputs": [
    {
     "output_type": "execute_result",
     "data": {
      "text/plain": [
       "{0: 'Approval', 1: 'Disapproval', 2: 'Neutral'}"
      ]
     },
     "metadata": {},
     "execution_count": 8
    }
   ],
   "metadata": {}
  },
  {
   "cell_type": "code",
   "execution_count": 9,
   "source": [
    "classed = np.argmax(final_model.predict(img_preprocessed))\n",
    "\n",
    "results = final_model.predict(img_preprocessed)\n",
    "class_Results = class_dict[classed]\n",
    "\n",
    "results\n"
   ],
   "outputs": [
    {
     "output_type": "execute_result",
     "data": {
      "text/plain": [
       "array([[1.7965827e-05, 9.9998200e-01, 3.8402593e-12]], dtype=float32)"
      ]
     },
     "metadata": {},
     "execution_count": 9
    }
   ],
   "metadata": {}
  },
  {
   "cell_type": "code",
   "execution_count": 43,
   "source": [
    "valid_incep = ImageDataGenerator(preprocessing_function=tf.keras.applications.inception_v3.preprocess_input)\\\n",
    "    .flow_from_directory(directory=testing, target_size=(224,224), batch_size=16)"
   ],
   "outputs": [
    {
     "output_type": "stream",
     "name": "stdout",
     "text": [
      "Found 7616 images belonging to 3 classes.\n"
     ]
    }
   ],
   "metadata": {}
  },
  {
   "cell_type": "markdown",
   "source": [
    "## Validation with the Testing set using the Inception Model"
   ],
   "metadata": {}
  },
  {
   "cell_type": "markdown",
   "source": [
    "# All Testing and pre-training code - Scrollers BEWARE! "
   ],
   "metadata": {}
  },
  {
   "cell_type": "code",
   "execution_count": 8,
   "source": [
    "test_img = valid_incep[0]"
   ],
   "outputs": [],
   "metadata": {}
  },
  {
   "cell_type": "code",
   "execution_count": 10,
   "source": [
    "decode_predictions(test_img, top=3)"
   ],
   "outputs": [
    {
     "output_type": "error",
     "ename": "AttributeError",
     "evalue": "'tuple' object has no attribute 'shape'",
     "traceback": [
      "\u001b[0;31m---------------------------------------------------------------------------\u001b[0m",
      "\u001b[0;31mAttributeError\u001b[0m                            Traceback (most recent call last)",
      "\u001b[0;32m<ipython-input-10-75a3952555e9>\u001b[0m in \u001b[0;36m<module>\u001b[0;34m\u001b[0m\n\u001b[0;32m----> 1\u001b[0;31m \u001b[0mdecode_predictions\u001b[0m\u001b[0;34m(\u001b[0m\u001b[0mtest_img\u001b[0m\u001b[0;34m,\u001b[0m \u001b[0mtop\u001b[0m\u001b[0;34m=\u001b[0m\u001b[0;36m3\u001b[0m\u001b[0;34m)\u001b[0m\u001b[0;34m\u001b[0m\u001b[0;34m\u001b[0m\u001b[0m\n\u001b[0m",
      "\u001b[0;32m~/anaconda3/lib/python3.8/site-packages/tensorflow/python/keras/applications/inception_v3.py\u001b[0m in \u001b[0;36mdecode_predictions\u001b[0;34m(preds, top)\u001b[0m\n\u001b[1;32m    413\u001b[0m \u001b[0;34m@\u001b[0m\u001b[0mkeras_export\u001b[0m\u001b[0;34m(\u001b[0m\u001b[0;34m'keras.applications.inception_v3.decode_predictions'\u001b[0m\u001b[0;34m)\u001b[0m\u001b[0;34m\u001b[0m\u001b[0;34m\u001b[0m\u001b[0m\n\u001b[1;32m    414\u001b[0m \u001b[0;32mdef\u001b[0m \u001b[0mdecode_predictions\u001b[0m\u001b[0;34m(\u001b[0m\u001b[0mpreds\u001b[0m\u001b[0;34m,\u001b[0m \u001b[0mtop\u001b[0m\u001b[0;34m=\u001b[0m\u001b[0;36m5\u001b[0m\u001b[0;34m)\u001b[0m\u001b[0;34m:\u001b[0m\u001b[0;34m\u001b[0m\u001b[0;34m\u001b[0m\u001b[0m\n\u001b[0;32m--> 415\u001b[0;31m   \u001b[0;32mreturn\u001b[0m \u001b[0mimagenet_utils\u001b[0m\u001b[0;34m.\u001b[0m\u001b[0mdecode_predictions\u001b[0m\u001b[0;34m(\u001b[0m\u001b[0mpreds\u001b[0m\u001b[0;34m,\u001b[0m \u001b[0mtop\u001b[0m\u001b[0;34m=\u001b[0m\u001b[0mtop\u001b[0m\u001b[0;34m)\u001b[0m\u001b[0;34m\u001b[0m\u001b[0;34m\u001b[0m\u001b[0m\n\u001b[0m\u001b[1;32m    416\u001b[0m \u001b[0;34m\u001b[0m\u001b[0m\n\u001b[1;32m    417\u001b[0m \u001b[0;34m\u001b[0m\u001b[0m\n",
      "\u001b[0;32m~/anaconda3/lib/python3.8/site-packages/tensorflow/python/keras/applications/imagenet_utils.py\u001b[0m in \u001b[0;36mdecode_predictions\u001b[0;34m(preds, top)\u001b[0m\n\u001b[1;32m    145\u001b[0m   \u001b[0;32mglobal\u001b[0m \u001b[0mCLASS_INDEX\u001b[0m\u001b[0;34m\u001b[0m\u001b[0;34m\u001b[0m\u001b[0m\n\u001b[1;32m    146\u001b[0m \u001b[0;34m\u001b[0m\u001b[0m\n\u001b[0;32m--> 147\u001b[0;31m   \u001b[0;32mif\u001b[0m \u001b[0mlen\u001b[0m\u001b[0;34m(\u001b[0m\u001b[0mpreds\u001b[0m\u001b[0;34m.\u001b[0m\u001b[0mshape\u001b[0m\u001b[0;34m)\u001b[0m \u001b[0;34m!=\u001b[0m \u001b[0;36m2\u001b[0m \u001b[0;32mor\u001b[0m \u001b[0mpreds\u001b[0m\u001b[0;34m.\u001b[0m\u001b[0mshape\u001b[0m\u001b[0;34m[\u001b[0m\u001b[0;36m1\u001b[0m\u001b[0;34m]\u001b[0m \u001b[0;34m!=\u001b[0m \u001b[0;36m1000\u001b[0m\u001b[0;34m:\u001b[0m\u001b[0;34m\u001b[0m\u001b[0;34m\u001b[0m\u001b[0m\n\u001b[0m\u001b[1;32m    148\u001b[0m     raise ValueError('`decode_predictions` expects '\n\u001b[1;32m    149\u001b[0m                      \u001b[0;34m'a batch of predictions '\u001b[0m\u001b[0;34m\u001b[0m\u001b[0;34m\u001b[0m\u001b[0m\n",
      "\u001b[0;31mAttributeError\u001b[0m: 'tuple' object has no attribute 'shape'"
     ]
    }
   ],
   "metadata": {}
  },
  {
   "cell_type": "code",
   "execution_count": null,
   "source": [],
   "outputs": [],
   "metadata": {}
  },
  {
   "cell_type": "code",
   "execution_count": 9,
   "source": [
    "vgg_all = VGG16model(images, testing)"
   ],
   "outputs": [],
   "metadata": {}
  },
  {
   "cell_type": "code",
   "execution_count": 6,
   "source": [
    "vgg_all.fit()"
   ],
   "outputs": [
    {
     "output_type": "stream",
     "name": "stdout",
     "text": [
      "Found 30444 images belonging to 3 classes.\n",
      "Found 7616 images belonging to 3 classes.\n"
     ]
    }
   ],
   "metadata": {}
  },
  {
   "cell_type": "code",
   "execution_count": null,
   "source": [],
   "outputs": [],
   "metadata": {}
  },
  {
   "cell_type": "code",
   "execution_count": 8,
   "source": [
    "vgg_all.model_fit()"
   ],
   "outputs": [
    {
     "output_type": "stream",
     "name": "stdout",
     "text": [
      "Epoch 1/50\n",
      "1903/1903 [==============================] - 1497s 785ms/step - loss: 23.8152 - accuracy: 0.8911 - val_loss: 0.1532 - val_accuracy: 0.9610\n",
      "Epoch 2/50\n",
      "1903/1903 [==============================] - 1426s 749ms/step - loss: 0.1050 - accuracy: 0.9681 - val_loss: 0.2344 - val_accuracy: 0.9399\n",
      "Epoch 3/50\n",
      "1903/1903 [==============================] - 1464s 769ms/step - loss: 0.1059 - accuracy: 0.9700 - val_loss: 0.1466 - val_accuracy: 0.9711\n",
      "Epoch 4/50\n",
      "1903/1903 [==============================] - 1395s 733ms/step - loss: 0.1072 - accuracy: 0.9710 - val_loss: 0.1770 - val_accuracy: 0.9643\n",
      "Epoch 5/50\n",
      "1903/1903 [==============================] - 1339s 703ms/step - loss: 0.0675 - accuracy: 0.9826 - val_loss: 0.1647 - val_accuracy: 0.9666\n",
      "Epoch 6/50\n",
      "1903/1903 [==============================] - 1364s 717ms/step - loss: 0.0900 - accuracy: 0.9768 - val_loss: 0.2055 - val_accuracy: 0.9714\n",
      "Epoch 7/50\n",
      "1903/1903 [==============================] - 1409s 740ms/step - loss: 0.0403 - accuracy: 0.9898 - val_loss: 0.3997 - val_accuracy: 0.9497\n",
      "Epoch 8/50\n",
      "1903/1903 [==============================] - 1417s 744ms/step - loss: 0.0763 - accuracy: 0.9853 - val_loss: 0.2414 - val_accuracy: 0.9644\n",
      "Epoch 9/50\n",
      " 756/1903 [==========>...................] - ETA: 13:57 - loss: 0.0352 - accuracy: 0.9913"
     ]
    },
    {
     "output_type": "error",
     "ename": "KeyboardInterrupt",
     "evalue": "",
     "traceback": [
      "\u001b[0;31m---------------------------------------------------------------------------\u001b[0m",
      "\u001b[0;31mKeyboardInterrupt\u001b[0m                         Traceback (most recent call last)",
      "\u001b[0;32m<ipython-input-8-157193f945d0>\u001b[0m in \u001b[0;36m<module>\u001b[0;34m\u001b[0m\n\u001b[0;32m----> 1\u001b[0;31m \u001b[0mvgg_all\u001b[0m\u001b[0;34m.\u001b[0m\u001b[0mmodel_fit\u001b[0m\u001b[0;34m(\u001b[0m\u001b[0;34m)\u001b[0m\u001b[0;34m\u001b[0m\u001b[0;34m\u001b[0m\u001b[0m\n\u001b[0m",
      "\u001b[0;32m~/Galvanize/capstones/crowd-sound-affect/src/model.py\u001b[0m in \u001b[0;36mmodel_fit\u001b[0;34m(self)\u001b[0m\n\u001b[1;32m     45\u001b[0m     \u001b[0;32mdef\u001b[0m \u001b[0mmodel_fit\u001b[0m\u001b[0;34m(\u001b[0m\u001b[0mself\u001b[0m\u001b[0;34m)\u001b[0m\u001b[0;34m:\u001b[0m\u001b[0;34m\u001b[0m\u001b[0;34m\u001b[0m\u001b[0m\n\u001b[1;32m     46\u001b[0m         \u001b[0;34m\"\"\"Fits the model\"\"\"\u001b[0m\u001b[0;34m\u001b[0m\u001b[0;34m\u001b[0m\u001b[0m\n\u001b[0;32m---> 47\u001b[0;31m         self.model.fit(x=self.images_train,\n\u001b[0m\u001b[1;32m     48\u001b[0m                         \u001b[0msteps_per_epoch\u001b[0m\u001b[0;34m=\u001b[0m\u001b[0mlen\u001b[0m\u001b[0;34m(\u001b[0m\u001b[0mself\u001b[0m\u001b[0;34m.\u001b[0m\u001b[0mimages_train\u001b[0m\u001b[0;34m)\u001b[0m\u001b[0;34m,\u001b[0m\u001b[0;34m\u001b[0m\u001b[0;34m\u001b[0m\u001b[0m\n\u001b[1;32m     49\u001b[0m                         \u001b[0mvalidation_data\u001b[0m\u001b[0;34m=\u001b[0m\u001b[0mself\u001b[0m\u001b[0;34m.\u001b[0m\u001b[0mimages_valid\u001b[0m\u001b[0;34m,\u001b[0m\u001b[0;34m\u001b[0m\u001b[0;34m\u001b[0m\u001b[0m\n",
      "\u001b[0;32m~/anaconda3/lib/python3.8/site-packages/tensorflow/python/keras/engine/training.py\u001b[0m in \u001b[0;36mfit\u001b[0;34m(self, x, y, batch_size, epochs, verbose, callbacks, validation_split, validation_data, shuffle, class_weight, sample_weight, initial_epoch, steps_per_epoch, validation_steps, validation_batch_size, validation_freq, max_queue_size, workers, use_multiprocessing)\u001b[0m\n\u001b[1;32m   1098\u001b[0m                 _r=1):\n\u001b[1;32m   1099\u001b[0m               \u001b[0mcallbacks\u001b[0m\u001b[0;34m.\u001b[0m\u001b[0mon_train_batch_begin\u001b[0m\u001b[0;34m(\u001b[0m\u001b[0mstep\u001b[0m\u001b[0;34m)\u001b[0m\u001b[0;34m\u001b[0m\u001b[0;34m\u001b[0m\u001b[0m\n\u001b[0;32m-> 1100\u001b[0;31m               \u001b[0mtmp_logs\u001b[0m \u001b[0;34m=\u001b[0m \u001b[0mself\u001b[0m\u001b[0;34m.\u001b[0m\u001b[0mtrain_function\u001b[0m\u001b[0;34m(\u001b[0m\u001b[0miterator\u001b[0m\u001b[0;34m)\u001b[0m\u001b[0;34m\u001b[0m\u001b[0;34m\u001b[0m\u001b[0m\n\u001b[0m\u001b[1;32m   1101\u001b[0m               \u001b[0;32mif\u001b[0m \u001b[0mdata_handler\u001b[0m\u001b[0;34m.\u001b[0m\u001b[0mshould_sync\u001b[0m\u001b[0;34m:\u001b[0m\u001b[0;34m\u001b[0m\u001b[0;34m\u001b[0m\u001b[0m\n\u001b[1;32m   1102\u001b[0m                 \u001b[0mcontext\u001b[0m\u001b[0;34m.\u001b[0m\u001b[0masync_wait\u001b[0m\u001b[0;34m(\u001b[0m\u001b[0;34m)\u001b[0m\u001b[0;34m\u001b[0m\u001b[0;34m\u001b[0m\u001b[0m\n",
      "\u001b[0;32m~/anaconda3/lib/python3.8/site-packages/tensorflow/python/eager/def_function.py\u001b[0m in \u001b[0;36m__call__\u001b[0;34m(self, *args, **kwds)\u001b[0m\n\u001b[1;32m    826\u001b[0m     \u001b[0mtracing_count\u001b[0m \u001b[0;34m=\u001b[0m \u001b[0mself\u001b[0m\u001b[0;34m.\u001b[0m\u001b[0mexperimental_get_tracing_count\u001b[0m\u001b[0;34m(\u001b[0m\u001b[0;34m)\u001b[0m\u001b[0;34m\u001b[0m\u001b[0;34m\u001b[0m\u001b[0m\n\u001b[1;32m    827\u001b[0m     \u001b[0;32mwith\u001b[0m \u001b[0mtrace\u001b[0m\u001b[0;34m.\u001b[0m\u001b[0mTrace\u001b[0m\u001b[0;34m(\u001b[0m\u001b[0mself\u001b[0m\u001b[0;34m.\u001b[0m\u001b[0m_name\u001b[0m\u001b[0;34m)\u001b[0m \u001b[0;32mas\u001b[0m \u001b[0mtm\u001b[0m\u001b[0;34m:\u001b[0m\u001b[0;34m\u001b[0m\u001b[0;34m\u001b[0m\u001b[0m\n\u001b[0;32m--> 828\u001b[0;31m       \u001b[0mresult\u001b[0m \u001b[0;34m=\u001b[0m \u001b[0mself\u001b[0m\u001b[0;34m.\u001b[0m\u001b[0m_call\u001b[0m\u001b[0;34m(\u001b[0m\u001b[0;34m*\u001b[0m\u001b[0margs\u001b[0m\u001b[0;34m,\u001b[0m \u001b[0;34m**\u001b[0m\u001b[0mkwds\u001b[0m\u001b[0;34m)\u001b[0m\u001b[0;34m\u001b[0m\u001b[0;34m\u001b[0m\u001b[0m\n\u001b[0m\u001b[1;32m    829\u001b[0m       \u001b[0mcompiler\u001b[0m \u001b[0;34m=\u001b[0m \u001b[0;34m\"xla\"\u001b[0m \u001b[0;32mif\u001b[0m \u001b[0mself\u001b[0m\u001b[0;34m.\u001b[0m\u001b[0m_experimental_compile\u001b[0m \u001b[0;32melse\u001b[0m \u001b[0;34m\"nonXla\"\u001b[0m\u001b[0;34m\u001b[0m\u001b[0;34m\u001b[0m\u001b[0m\n\u001b[1;32m    830\u001b[0m       \u001b[0mnew_tracing_count\u001b[0m \u001b[0;34m=\u001b[0m \u001b[0mself\u001b[0m\u001b[0;34m.\u001b[0m\u001b[0mexperimental_get_tracing_count\u001b[0m\u001b[0;34m(\u001b[0m\u001b[0;34m)\u001b[0m\u001b[0;34m\u001b[0m\u001b[0;34m\u001b[0m\u001b[0m\n",
      "\u001b[0;32m~/anaconda3/lib/python3.8/site-packages/tensorflow/python/eager/def_function.py\u001b[0m in \u001b[0;36m_call\u001b[0;34m(self, *args, **kwds)\u001b[0m\n\u001b[1;32m    853\u001b[0m       \u001b[0;31m# In this case we have created variables on the first call, so we run the\u001b[0m\u001b[0;34m\u001b[0m\u001b[0;34m\u001b[0m\u001b[0;34m\u001b[0m\u001b[0m\n\u001b[1;32m    854\u001b[0m       \u001b[0;31m# defunned version which is guaranteed to never create variables.\u001b[0m\u001b[0;34m\u001b[0m\u001b[0;34m\u001b[0m\u001b[0;34m\u001b[0m\u001b[0m\n\u001b[0;32m--> 855\u001b[0;31m       \u001b[0;32mreturn\u001b[0m \u001b[0mself\u001b[0m\u001b[0;34m.\u001b[0m\u001b[0m_stateless_fn\u001b[0m\u001b[0;34m(\u001b[0m\u001b[0;34m*\u001b[0m\u001b[0margs\u001b[0m\u001b[0;34m,\u001b[0m \u001b[0;34m**\u001b[0m\u001b[0mkwds\u001b[0m\u001b[0;34m)\u001b[0m  \u001b[0;31m# pylint: disable=not-callable\u001b[0m\u001b[0;34m\u001b[0m\u001b[0;34m\u001b[0m\u001b[0m\n\u001b[0m\u001b[1;32m    856\u001b[0m     \u001b[0;32melif\u001b[0m \u001b[0mself\u001b[0m\u001b[0;34m.\u001b[0m\u001b[0m_stateful_fn\u001b[0m \u001b[0;32mis\u001b[0m \u001b[0;32mnot\u001b[0m \u001b[0;32mNone\u001b[0m\u001b[0;34m:\u001b[0m\u001b[0;34m\u001b[0m\u001b[0;34m\u001b[0m\u001b[0m\n\u001b[1;32m    857\u001b[0m       \u001b[0;31m# Release the lock early so that multiple threads can perform the call\u001b[0m\u001b[0;34m\u001b[0m\u001b[0;34m\u001b[0m\u001b[0;34m\u001b[0m\u001b[0m\n",
      "\u001b[0;32m~/anaconda3/lib/python3.8/site-packages/tensorflow/python/eager/function.py\u001b[0m in \u001b[0;36m__call__\u001b[0;34m(self, *args, **kwargs)\u001b[0m\n\u001b[1;32m   2940\u001b[0m       (graph_function,\n\u001b[1;32m   2941\u001b[0m        filtered_flat_args) = self._maybe_define_function(args, kwargs)\n\u001b[0;32m-> 2942\u001b[0;31m     return graph_function._call_flat(\n\u001b[0m\u001b[1;32m   2943\u001b[0m         filtered_flat_args, captured_inputs=graph_function.captured_inputs)  # pylint: disable=protected-access\n\u001b[1;32m   2944\u001b[0m \u001b[0;34m\u001b[0m\u001b[0m\n",
      "\u001b[0;32m~/anaconda3/lib/python3.8/site-packages/tensorflow/python/eager/function.py\u001b[0m in \u001b[0;36m_call_flat\u001b[0;34m(self, args, captured_inputs, cancellation_manager)\u001b[0m\n\u001b[1;32m   1916\u001b[0m         and executing_eagerly):\n\u001b[1;32m   1917\u001b[0m       \u001b[0;31m# No tape is watching; skip to running the function.\u001b[0m\u001b[0;34m\u001b[0m\u001b[0;34m\u001b[0m\u001b[0;34m\u001b[0m\u001b[0m\n\u001b[0;32m-> 1918\u001b[0;31m       return self._build_call_outputs(self._inference_function.call(\n\u001b[0m\u001b[1;32m   1919\u001b[0m           ctx, args, cancellation_manager=cancellation_manager))\n\u001b[1;32m   1920\u001b[0m     forward_backward = self._select_forward_and_backward_functions(\n",
      "\u001b[0;32m~/anaconda3/lib/python3.8/site-packages/tensorflow/python/eager/function.py\u001b[0m in \u001b[0;36mcall\u001b[0;34m(self, ctx, args, cancellation_manager)\u001b[0m\n\u001b[1;32m    553\u001b[0m       \u001b[0;32mwith\u001b[0m \u001b[0m_InterpolateFunctionError\u001b[0m\u001b[0;34m(\u001b[0m\u001b[0mself\u001b[0m\u001b[0;34m)\u001b[0m\u001b[0;34m:\u001b[0m\u001b[0;34m\u001b[0m\u001b[0;34m\u001b[0m\u001b[0m\n\u001b[1;32m    554\u001b[0m         \u001b[0;32mif\u001b[0m \u001b[0mcancellation_manager\u001b[0m \u001b[0;32mis\u001b[0m \u001b[0;32mNone\u001b[0m\u001b[0;34m:\u001b[0m\u001b[0;34m\u001b[0m\u001b[0;34m\u001b[0m\u001b[0m\n\u001b[0;32m--> 555\u001b[0;31m           outputs = execute.execute(\n\u001b[0m\u001b[1;32m    556\u001b[0m               \u001b[0mstr\u001b[0m\u001b[0;34m(\u001b[0m\u001b[0mself\u001b[0m\u001b[0;34m.\u001b[0m\u001b[0msignature\u001b[0m\u001b[0;34m.\u001b[0m\u001b[0mname\u001b[0m\u001b[0;34m)\u001b[0m\u001b[0;34m,\u001b[0m\u001b[0;34m\u001b[0m\u001b[0;34m\u001b[0m\u001b[0m\n\u001b[1;32m    557\u001b[0m               \u001b[0mnum_outputs\u001b[0m\u001b[0;34m=\u001b[0m\u001b[0mself\u001b[0m\u001b[0;34m.\u001b[0m\u001b[0m_num_outputs\u001b[0m\u001b[0;34m,\u001b[0m\u001b[0;34m\u001b[0m\u001b[0;34m\u001b[0m\u001b[0m\n",
      "\u001b[0;32m~/anaconda3/lib/python3.8/site-packages/tensorflow/python/eager/execute.py\u001b[0m in \u001b[0;36mquick_execute\u001b[0;34m(op_name, num_outputs, inputs, attrs, ctx, name)\u001b[0m\n\u001b[1;32m     57\u001b[0m   \u001b[0;32mtry\u001b[0m\u001b[0;34m:\u001b[0m\u001b[0;34m\u001b[0m\u001b[0;34m\u001b[0m\u001b[0m\n\u001b[1;32m     58\u001b[0m     \u001b[0mctx\u001b[0m\u001b[0;34m.\u001b[0m\u001b[0mensure_initialized\u001b[0m\u001b[0;34m(\u001b[0m\u001b[0;34m)\u001b[0m\u001b[0;34m\u001b[0m\u001b[0;34m\u001b[0m\u001b[0m\n\u001b[0;32m---> 59\u001b[0;31m     tensors = pywrap_tfe.TFE_Py_Execute(ctx._handle, device_name, op_name,\n\u001b[0m\u001b[1;32m     60\u001b[0m                                         inputs, attrs, num_outputs)\n\u001b[1;32m     61\u001b[0m   \u001b[0;32mexcept\u001b[0m \u001b[0mcore\u001b[0m\u001b[0;34m.\u001b[0m\u001b[0m_NotOkStatusException\u001b[0m \u001b[0;32mas\u001b[0m \u001b[0me\u001b[0m\u001b[0;34m:\u001b[0m\u001b[0;34m\u001b[0m\u001b[0;34m\u001b[0m\u001b[0m\n",
      "\u001b[0;31mKeyboardInterrupt\u001b[0m: "
     ]
    }
   ],
   "metadata": {}
  },
  {
   "cell_type": "code",
   "execution_count": null,
   "source": [],
   "outputs": [],
   "metadata": {}
  },
  {
   "cell_type": "code",
   "execution_count": 12,
   "source": [
    "# images are normalized from 0-1. \n",
    "\n",
    "# images_bark = tf.keras.preprocessing.image_dataset_from_directory('../dataset/step4_split_spectrograms/dataset_images_training/bark')\n",
    "# images_dis = tf.keras.preprocessing.image_dataset_from_directory('../dataset/step4_split_spectrograms/dataset_images_training/disapproval_all')\n",
    "# images_neutral+ tf.keras.preprocessing.image_dataset_from_directory('../dataset/step4_split_spectrograms/dataset_images_training/neutral_all')\n",
    "images_bark = '/home/pteradox/Galvanize/capstones/crowd-sound-affect/dataset/step4_split_spectrograms/dataset_training/bark'\n",
    "validation_bark = '/home/pteradox/Galvanize/capstones/crowd-sound-affect/dataset/step4_split_spectrograms/dataset_test/bark'\n"
   ],
   "outputs": [],
   "metadata": {}
  },
  {
   "cell_type": "code",
   "execution_count": 167,
   "source": [
    "images = '/home/pteradox/Galvanize/capstones/crowd-sound-affect/dataset/step4_split_spectrograms/dataset_training/all_freq'\n",
    "validation = '/home/pteradox/Galvanize/capstones/crowd-sound-affect/dataset/step4_split_spectrograms/dataset_test/all_freq'"
   ],
   "outputs": [],
   "metadata": {}
  },
  {
   "cell_type": "code",
   "execution_count": null,
   "source": [],
   "outputs": [],
   "metadata": {}
  },
  {
   "cell_type": "markdown",
   "source": [
    "FULL DATA SET"
   ],
   "metadata": {}
  },
  {
   "cell_type": "code",
   "execution_count": null,
   "source": [
    "images = ImageDataGenerator(preprocessing_function=tf.keras.applications.vgg16.preprocess_input)\\\n",
    "    .flow_from_directory(directory=images, target_size=(224,224), batch_size=16)\n"
   ],
   "outputs": [],
   "metadata": {}
  },
  {
   "cell_type": "code",
   "execution_count": 168,
   "source": [
    "test_all = ImageDataGenerator(preprocessing_function=tf.keras.applications.vgg16.preprocess_input)\\\n",
    "    .flow_from_directory(directory=images, target_size=(224,224), batch_size=16)"
   ],
   "outputs": [
    {
     "output_type": "stream",
     "name": "stdout",
     "text": [
      "Found 30444 images belonging to 3 classes.\n"
     ]
    }
   ],
   "metadata": {}
  },
  {
   "cell_type": "code",
   "execution_count": 164,
   "source": [
    "images"
   ],
   "outputs": [
    {
     "output_type": "execute_result",
     "data": {
      "text/plain": [
       "'/home/pteradox/Galvanize/capstones/crowd-sound-affect/dataset/step4_split_spectrograms/dataset_training/all_freq/*'"
      ]
     },
     "metadata": {},
     "execution_count": 164
    }
   ],
   "metadata": {}
  },
  {
   "cell_type": "code",
   "execution_count": 19,
   "source": [
    "validation = ImageDataGenerator(preprocessing_function=tf.keras.applications.vgg16.preprocess_input)\\\n",
    "    .flow_from_directory(directory=validation, target_size=(224,224), batch_size=16)"
   ],
   "outputs": [
    {
     "output_type": "stream",
     "name": "stdout",
     "text": [
      "Found 7616 images belonging to 3 classes.\n"
     ]
    }
   ],
   "metadata": {}
  },
  {
   "cell_type": "markdown",
   "source": [
    "TRAINING"
   ],
   "metadata": {}
  },
  {
   "cell_type": "code",
   "execution_count": 13,
   "source": [
    "train_bark = ImageDataGenerator(preprocessing_function=tf.keras.applications.vgg16.preprocess_input)\\\n",
    "    .flow_from_directory(directory=images_bark, target_size=(224,224), batch_size=16)\n",
    "#converted from RGB to BGR, then each color channel is zero-centered with respect to the ImageNet dataset (normalizing between -1 to 1), without scaling. "
   ],
   "outputs": [
    {
     "output_type": "stream",
     "name": "stdout",
     "text": [
      "Found 7611 images belonging to 3 classes.\n"
     ]
    }
   ],
   "metadata": {}
  },
  {
   "cell_type": "code",
   "execution_count": 165,
   "source": [],
   "outputs": [
    {
     "output_type": "execute_result",
     "data": {
      "text/plain": [
       "<tensorflow.python.keras.preprocessing.image.DirectoryIterator at 0x7fbf20bb6250>"
      ]
     },
     "metadata": {},
     "execution_count": 165
    }
   ],
   "metadata": {}
  },
  {
   "cell_type": "code",
   "execution_count": 14,
   "source": [
    "validation_bark = ImageDataGenerator(preprocessing_function=tf.keras.applications.vgg16.preprocess_input)\\\n",
    "    .flow_from_directory(directory=validation_bark, target_size=(224,224), batch_size=16, shuffle=False)"
   ],
   "outputs": [
    {
     "output_type": "stream",
     "name": "stdout",
     "text": [
      "Found 1904 images belonging to 3 classes.\n"
     ]
    }
   ],
   "metadata": {}
  },
  {
   "cell_type": "code",
   "execution_count": 124,
   "source": [
    "imgs, labels = next(train_bark)"
   ],
   "outputs": [],
   "metadata": {}
  },
  {
   "cell_type": "code",
   "execution_count": 69,
   "source": [
    "def plotImages(images_arr):\n",
    "    fig, axes = plt.subplots(1, 10, figsize=(20,20))\n",
    "    axes = axes.flatten()\n",
    "    for img, ax in zip( images_arr, axes):\n",
    "        ax.imshow(img)\n",
    "        ax.axis('off')\n",
    "    plt.tight_layout()\n",
    "    plt.show()"
   ],
   "outputs": [],
   "metadata": {}
  },
  {
   "cell_type": "code",
   "execution_count": null,
   "source": [
    "plotImages(imgs)\n",
    "print(labels)"
   ],
   "outputs": [],
   "metadata": {}
  },
  {
   "cell_type": "code",
   "execution_count": 15,
   "source": [
    "model = Sequential([\n",
    "    Conv2D(filters=32, kernel_size=(3, 3), activation='relu', padding = 'same', input_shape=(224,224,3)),\n",
    "    MaxPool2D(pool_size=(2, 2), strides=2),\n",
    "    Conv2D(filters=64, kernel_size=(3, 3), activation='relu', padding = 'same'),\n",
    "    MaxPool2D(pool_size=(2, 2), strides=2),\n",
    "    Flatten(),\n",
    "    Dense(units=3, activation='softmax')\n",
    "])"
   ],
   "outputs": [],
   "metadata": {}
  },
  {
   "cell_type": "code",
   "execution_count": 16,
   "source": [
    "model.summary()"
   ],
   "outputs": [
    {
     "output_type": "stream",
     "name": "stdout",
     "text": [
      "Model: \"sequential\"\n",
      "_________________________________________________________________\n",
      "Layer (type)                 Output Shape              Param #   \n",
      "=================================================================\n",
      "conv2d (Conv2D)              (None, 224, 224, 32)      896       \n",
      "_________________________________________________________________\n",
      "max_pooling2d (MaxPooling2D) (None, 112, 112, 32)      0         \n",
      "_________________________________________________________________\n",
      "conv2d_1 (Conv2D)            (None, 112, 112, 64)      18496     \n",
      "_________________________________________________________________\n",
      "max_pooling2d_1 (MaxPooling2 (None, 56, 56, 64)        0         \n",
      "_________________________________________________________________\n",
      "flatten (Flatten)            (None, 200704)            0         \n",
      "_________________________________________________________________\n",
      "dense (Dense)                (None, 3)                 602115    \n",
      "=================================================================\n",
      "Total params: 621,507\n",
      "Trainable params: 621,507\n",
      "Non-trainable params: 0\n",
      "_________________________________________________________________\n"
     ]
    }
   ],
   "metadata": {}
  },
  {
   "cell_type": "code",
   "execution_count": 18,
   "source": [
    "model.compile(optimizer=Adam(learning_rate=0.001), loss='categorical_crossentropy', metrics=['accuracy'])\n",
    "callback = [tf.keras.callbacks.EarlyStopping(monitor='accuracy', patience=2), tf.keras.callbacks.ModelCheckpoint(filepath='model_checkpoints/')]"
   ],
   "outputs": [],
   "metadata": {}
  },
  {
   "cell_type": "markdown",
   "source": [
    "Baseline Data"
   ],
   "metadata": {}
  },
  {
   "cell_type": "code",
   "execution_count": null,
   "source": [
    "model.fit(x=train_bark,\n",
    "    steps_per_epoch=len(train_bark),\n",
    "    validation_data=validation_bark,\n",
    "    validation_steps=len(validation_bark),\n",
    "    epochs=50,\n",
    "    verbose=1, callbacks=callback)\n",
    "#batch 32/learning rate .01/categorical_crossentroy, accuracy\n",
    "# 238/238 [==============================] - 242s 1s/step - loss: 0.6378 - accuracy: 0.7752 - val_loss: 0.6460 - val_accuracy: 0.7710"
   ],
   "outputs": [],
   "metadata": {}
  },
  {
   "cell_type": "markdown",
   "source": [
    "Improvement"
   ],
   "metadata": {}
  },
  {
   "cell_type": "code",
   "execution_count": null,
   "source": [
    "model.fit(x=train_bark,\n",
    "    steps_per_epoch=len(train_bark),\n",
    "    validation_data=validation_bark,\n",
    "    validation_steps=len(validation_bark),\n",
    "    epochs=10,\n",
    "    verbose=1, callbacks=[callback])\n",
    "# train_bark = ImageDataGenerator(preprocessing_function=tf.keras.applications.vgg16.preprocess_input)\\\n",
    "    # .flow_from_directory(directory=images_bark, target_size=(224,224), batch_size=16)\n",
    "    #model.compile(optimizer=Adam(learning_rate=0.001), loss='categorical_crossentropy', metrics=['accuracy'])\n",
    "# callback = tf.keras.callbacks.EarlyStopping(monitor='loss', patience=2)\n",
    "    # 476/476 [==============================] - 309s 648ms/step - loss: 0.1439 - accuracy: 0.9574 - val_loss: 0.1803 - val_accuracy: 0.9428"
   ],
   "outputs": [],
   "metadata": {}
  },
  {
   "cell_type": "markdown",
   "source": [
    "Confusion Matrix"
   ],
   "metadata": {}
  },
  {
   "cell_type": "code",
   "execution_count": 132,
   "source": [
    "Y_pred = model.predict(validation_bark, 1904// 16+1)\n",
    "y_pred = np.argmax(Y_pred, axis=1)\n",
    "print('Confusion Matrix')\n",
    "cm = confusion_matrix(validation_bark.classes, y_pred)\n",
    "print(cm)\n",
    "print('Classification Report')\n",
    "target_names = ['Approval', 'Disapproval', 'Neutral']\n",
    "print(classification_report(validation_bark.classes, y_pred, target_names=target_names))"
   ],
   "outputs": [
    {
     "output_type": "stream",
     "name": "stdout",
     "text": [
      "Confusion Matrix\n",
      "[[ 353    0    5]\n",
      " [   6   49   23]\n",
      " [  66    9 1393]]\n",
      "Classification Report\n",
      "              precision    recall  f1-score   support\n",
      "\n",
      "    Approval       0.83      0.99      0.90       358\n",
      " Disapproval       0.84      0.63      0.72        78\n",
      "     Neutral       0.98      0.95      0.96      1468\n",
      "\n",
      "    accuracy                           0.94      1904\n",
      "   macro avg       0.89      0.85      0.86      1904\n",
      "weighted avg       0.95      0.94      0.94      1904\n",
      "\n"
     ]
    }
   ],
   "metadata": {}
  },
  {
   "cell_type": "code",
   "execution_count": 133,
   "source": [
    "  \n",
    "\n",
    "ax= plt.subplot()\n",
    "sns.heatmap(cm, annot=True, fmt='g', ax=ax);  #annot=True to annotate cells, ftm='g' to disable scientific notation\n",
    "\n",
    "# labels, title and ticks\n",
    "ax.set_xlabel('Predicted labels');ax.set_ylabel('True labels'); \n",
    "ax.set_title('Confusion Matrix'); \n",
    "ax.xaxis.set_ticklabels(['Approval', 'Disapproval', 'Neutral']); ax.yaxis.set_ticklabels(['Approval', 'Disapproval', 'Neutral']);"
   ],
   "outputs": [
    {
     "output_type": "display_data",
     "data": {
      "text/plain": [
       "<Figure size 432x288 with 2 Axes>"
      ],
      "image/png": "[encoded data removed]"
     },
     "metadata": {
      "needs_background": "light"
     }
    }
   ],
   "metadata": {}
  },
  {
   "cell_type": "markdown",
   "source": [
    "# Inception V3 Model"
   ],
   "metadata": {}
  },
  {
   "cell_type": "code",
   "execution_count": null,
   "source": [
    "\n",
    "train_bark_incep = ImageDataGenerator(preprocessing_function=tf.keras.applications.inception_v3.preprocess_input)\\\n",
    "    .flow_from_directory(directory=images_bark, target_size=(224,224), batch_size=16)\n"
   ],
   "outputs": [],
   "metadata": {}
  },
  {
   "cell_type": "code",
   "execution_count": 143,
   "source": [
    "valid_bark_incep = ImageDataGenerator(preprocessing_function=tf.keras.applications.inception_v3.preprocess_input)\\\n",
    "    .flow_from_directory(directory=validation_bark, target_size=(224,224), batch_size=16)"
   ],
   "outputs": [
    {
     "output_type": "stream",
     "name": "stdout",
     "text": [
      "Found 1904 images belonging to 3 classes.\n"
     ]
    }
   ],
   "metadata": {}
  },
  {
   "cell_type": "code",
   "execution_count": 145,
   "source": [
    "model_incep = Sequential([\n",
    "    Conv2D(filters=32, kernel_size=(3, 3), activation='relu', padding = 'same', input_shape=(224,224,3)),\n",
    "    MaxPool2D(pool_size=(2, 2), strides=2),\n",
    "    Conv2D(filters=64, kernel_size=(3, 3), activation='relu', padding = 'same'),\n",
    "    MaxPool2D(pool_size=(2, 2), strides=2),\n",
    "    Flatten(),\n",
    "    Dense(units=3, activation='softmax')\n",
    "])"
   ],
   "outputs": [],
   "metadata": {}
  },
  {
   "cell_type": "code",
   "execution_count": 150,
   "source": [
    "model_incep.compile(optimizer=Adam(learning_rate=0.001), loss='categorical_crossentropy', metrics=['accuracy'])\n",
    "callback = tf.keras.callbacks.EarlyStopping(monitor='accuracy', patience=2)"
   ],
   "outputs": [],
   "metadata": {}
  },
  {
   "cell_type": "code",
   "execution_count": 151,
   "source": [
    "model_incep.fit(x=train_bark_incep,\n",
    "    steps_per_epoch=len(train_bark_incep),\n",
    "    validation_data=valid_bark_incep,\n",
    "    validation_steps=len(valid_bark_incep),\n",
    "    epochs=50,\n",
    "    verbose=1, callbacks=[callback])\n",
    "\n",
    "# 476/476 [==============================] - 258s 542ms/step - loss: 9.4135e-05 - accuracy: 1.0000 - val_loss: 0.0031 - val_accuracy: 0.9984"
   ],
   "outputs": [
    {
     "output_type": "stream",
     "name": "stdout",
     "text": [
      "Epoch 1/50\n",
      "476/476 [==============================] - 258s 541ms/step - loss: 0.0864 - accuracy: 0.9788 - val_loss: 0.0582 - val_accuracy: 0.9790\n",
      "Epoch 2/50\n",
      "476/476 [==============================] - 248s 520ms/step - loss: 0.0449 - accuracy: 0.9875 - val_loss: 0.0378 - val_accuracy: 0.9900\n",
      "Epoch 3/50\n",
      "476/476 [==============================] - 253s 530ms/step - loss: 0.0206 - accuracy: 0.9936 - val_loss: 0.0516 - val_accuracy: 0.9795\n",
      "Epoch 4/50\n",
      "476/476 [==============================] - 247s 519ms/step - loss: 0.0189 - accuracy: 0.9932 - val_loss: 0.0178 - val_accuracy: 0.9921\n",
      "Epoch 5/50\n",
      "476/476 [==============================] - 241s 506ms/step - loss: 0.0235 - accuracy: 0.9933 - val_loss: 0.0261 - val_accuracy: 0.9911\n",
      "Epoch 6/50\n",
      "476/476 [==============================] - 256s 538ms/step - loss: 0.0126 - accuracy: 0.9957 - val_loss: 0.0049 - val_accuracy: 0.9989\n",
      "Epoch 7/50\n",
      "476/476 [==============================] - 253s 531ms/step - loss: 0.0071 - accuracy: 0.9984 - val_loss: 0.0256 - val_accuracy: 0.9942\n",
      "Epoch 8/50\n",
      "476/476 [==============================] - 262s 551ms/step - loss: 0.0114 - accuracy: 0.9959 - val_loss: 0.0037 - val_accuracy: 0.9984\n",
      "Epoch 9/50\n",
      "476/476 [==============================] - 259s 544ms/step - loss: 4.0307e-04 - accuracy: 1.0000 - val_loss: 0.0055 - val_accuracy: 0.9968\n",
      "Epoch 10/50\n",
      "476/476 [==============================] - 267s 561ms/step - loss: 1.1586e-04 - accuracy: 1.0000 - val_loss: 0.0028 - val_accuracy: 0.9989\n",
      "Epoch 11/50\n",
      "476/476 [==============================] - 258s 542ms/step - loss: 9.4135e-05 - accuracy: 1.0000 - val_loss: 0.0031 - val_accuracy: 0.9984\n"
     ]
    },
    {
     "output_type": "execute_result",
     "data": {
      "text/plain": [
       "<tensorflow.python.keras.callbacks.History at 0x7fbeea4d4040>"
      ]
     },
     "metadata": {},
     "execution_count": 151
    }
   ],
   "metadata": {}
  },
  {
   "cell_type": "code",
   "execution_count": null,
   "source": [],
   "outputs": [],
   "metadata": {}
  }
 ],
 "metadata": {
  "orig_nbformat": 4,
  "language_info": {
   "name": "python",
   "version": "3.8.5",
   "mimetype": "text/x-python",
   "codemirror_mode": {
    "name": "ipython",
    "version": 3
   },
   "pygments_lexer": "ipython3",
   "nbconvert_exporter": "python",
   "file_extension": ".py"
  },
  "kernelspec": {
   "name": "python3",
   "display_name": "Python 3.8.5 64-bit ('base': conda)"
  },
  "interpreter": {
   "hash": "f19acf6f74a7eb80785c6028b5d0046357fb08ccf452a8c71704de342991f470"
  }
 },
 "nbformat": 4,
 "nbformat_minor": 2
}